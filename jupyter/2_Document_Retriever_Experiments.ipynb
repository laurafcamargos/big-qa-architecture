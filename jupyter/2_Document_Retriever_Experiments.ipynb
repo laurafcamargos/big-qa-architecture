{
  "nbformat": 4,
  "nbformat_minor": 0,
  "metadata": {
    "colab": {
      "provenance": [],
      "collapsed_sections": [
        "YkGh8ke-IaUH",
        "L4iQ7T4PIvPJ",
        "pde1DUfyJOJ9",
        "3HKHx0F1VNCK",
        "x-I5zhpEVQHW",
        "cwTiflFj4rzz",
        "V9wk72kP69cW",
        "hIr_M079aSVk"
      ],
      "toc_visible": true,
      "include_colab_link": true
    },
    "kernelspec": {
      "name": "python3",
      "display_name": "Python 3"
    },
    "language_info": {
      "name": "python"
    },
    "widgets": {
      "application/vnd.jupyter.widget-state+json": {
        "9bffc69f050c4bf2936dc9fd8cb8554b": {
          "model_module": "@jupyter-widgets/controls",
          "model_name": "HBoxModel",
          "model_module_version": "1.5.0",
          "state": {
            "_dom_classes": [],
            "_model_module": "@jupyter-widgets/controls",
            "_model_module_version": "1.5.0",
            "_model_name": "HBoxModel",
            "_view_count": null,
            "_view_module": "@jupyter-widgets/controls",
            "_view_module_version": "1.5.0",
            "_view_name": "HBoxView",
            "box_style": "",
            "children": [
              "IPY_MODEL_95e54543a3104d9188a9dc577866fb72",
              "IPY_MODEL_6a37f47be44846eaacdeb0f0fda687d4",
              "IPY_MODEL_e636c9617c564e7dbf8aedab89069d7e"
            ],
            "layout": "IPY_MODEL_64debe96eb454b52913d94dfeccb73d1"
          }
        },
        "95e54543a3104d9188a9dc577866fb72": {
          "model_module": "@jupyter-widgets/controls",
          "model_name": "HTMLModel",
          "model_module_version": "1.5.0",
          "state": {
            "_dom_classes": [],
            "_model_module": "@jupyter-widgets/controls",
            "_model_module_version": "1.5.0",
            "_model_name": "HTMLModel",
            "_view_count": null,
            "_view_module": "@jupyter-widgets/controls",
            "_view_module_version": "1.5.0",
            "_view_name": "HTMLView",
            "description": "",
            "description_tooltip": null,
            "layout": "IPY_MODEL_7c1d544f36cd466ea0fd25c4e3fe528b",
            "placeholder": "​",
            "style": "IPY_MODEL_1301e1c713644ec2a5980796aa57e7dd",
            "value": "Downloading readme: 100%"
          }
        },
        "6a37f47be44846eaacdeb0f0fda687d4": {
          "model_module": "@jupyter-widgets/controls",
          "model_name": "FloatProgressModel",
          "model_module_version": "1.5.0",
          "state": {
            "_dom_classes": [],
            "_model_module": "@jupyter-widgets/controls",
            "_model_module_version": "1.5.0",
            "_model_name": "FloatProgressModel",
            "_view_count": null,
            "_view_module": "@jupyter-widgets/controls",
            "_view_module_version": "1.5.0",
            "_view_name": "ProgressView",
            "bar_style": "success",
            "description": "",
            "description_tooltip": null,
            "layout": "IPY_MODEL_d4fa2efa119341eea007988d340d2839",
            "max": 3548,
            "min": 0,
            "orientation": "horizontal",
            "style": "IPY_MODEL_b280c6f8d94e44c38201846f0a97a934",
            "value": 3548
          }
        },
        "e636c9617c564e7dbf8aedab89069d7e": {
          "model_module": "@jupyter-widgets/controls",
          "model_name": "HTMLModel",
          "model_module_version": "1.5.0",
          "state": {
            "_dom_classes": [],
            "_model_module": "@jupyter-widgets/controls",
            "_model_module_version": "1.5.0",
            "_model_name": "HTMLModel",
            "_view_count": null,
            "_view_module": "@jupyter-widgets/controls",
            "_view_module_version": "1.5.0",
            "_view_name": "HTMLView",
            "description": "",
            "description_tooltip": null,
            "layout": "IPY_MODEL_d8e8efab72cc4b009bc558fb8ab5cccc",
            "placeholder": "​",
            "style": "IPY_MODEL_dc175e29f9914248999a8073914986a6",
            "value": " 3.55k/3.55k [00:00&lt;00:00, 94.3kB/s]"
          }
        },
        "64debe96eb454b52913d94dfeccb73d1": {
          "model_module": "@jupyter-widgets/base",
          "model_name": "LayoutModel",
          "model_module_version": "1.2.0",
          "state": {
            "_model_module": "@jupyter-widgets/base",
            "_model_module_version": "1.2.0",
            "_model_name": "LayoutModel",
            "_view_count": null,
            "_view_module": "@jupyter-widgets/base",
            "_view_module_version": "1.2.0",
            "_view_name": "LayoutView",
            "align_content": null,
            "align_items": null,
            "align_self": null,
            "border": null,
            "bottom": null,
            "display": null,
            "flex": null,
            "flex_flow": null,
            "grid_area": null,
            "grid_auto_columns": null,
            "grid_auto_flow": null,
            "grid_auto_rows": null,
            "grid_column": null,
            "grid_gap": null,
            "grid_row": null,
            "grid_template_areas": null,
            "grid_template_columns": null,
            "grid_template_rows": null,
            "height": null,
            "justify_content": null,
            "justify_items": null,
            "left": null,
            "margin": null,
            "max_height": null,
            "max_width": null,
            "min_height": null,
            "min_width": null,
            "object_fit": null,
            "object_position": null,
            "order": null,
            "overflow": null,
            "overflow_x": null,
            "overflow_y": null,
            "padding": null,
            "right": null,
            "top": null,
            "visibility": null,
            "width": null
          }
        },
        "7c1d544f36cd466ea0fd25c4e3fe528b": {
          "model_module": "@jupyter-widgets/base",
          "model_name": "LayoutModel",
          "model_module_version": "1.2.0",
          "state": {
            "_model_module": "@jupyter-widgets/base",
            "_model_module_version": "1.2.0",
            "_model_name": "LayoutModel",
            "_view_count": null,
            "_view_module": "@jupyter-widgets/base",
            "_view_module_version": "1.2.0",
            "_view_name": "LayoutView",
            "align_content": null,
            "align_items": null,
            "align_self": null,
            "border": null,
            "bottom": null,
            "display": null,
            "flex": null,
            "flex_flow": null,
            "grid_area": null,
            "grid_auto_columns": null,
            "grid_auto_flow": null,
            "grid_auto_rows": null,
            "grid_column": null,
            "grid_gap": null,
            "grid_row": null,
            "grid_template_areas": null,
            "grid_template_columns": null,
            "grid_template_rows": null,
            "height": null,
            "justify_content": null,
            "justify_items": null,
            "left": null,
            "margin": null,
            "max_height": null,
            "max_width": null,
            "min_height": null,
            "min_width": null,
            "object_fit": null,
            "object_position": null,
            "order": null,
            "overflow": null,
            "overflow_x": null,
            "overflow_y": null,
            "padding": null,
            "right": null,
            "top": null,
            "visibility": null,
            "width": null
          }
        },
        "1301e1c713644ec2a5980796aa57e7dd": {
          "model_module": "@jupyter-widgets/controls",
          "model_name": "DescriptionStyleModel",
          "model_module_version": "1.5.0",
          "state": {
            "_model_module": "@jupyter-widgets/controls",
            "_model_module_version": "1.5.0",
            "_model_name": "DescriptionStyleModel",
            "_view_count": null,
            "_view_module": "@jupyter-widgets/base",
            "_view_module_version": "1.2.0",
            "_view_name": "StyleView",
            "description_width": ""
          }
        },
        "d4fa2efa119341eea007988d340d2839": {
          "model_module": "@jupyter-widgets/base",
          "model_name": "LayoutModel",
          "model_module_version": "1.2.0",
          "state": {
            "_model_module": "@jupyter-widgets/base",
            "_model_module_version": "1.2.0",
            "_model_name": "LayoutModel",
            "_view_count": null,
            "_view_module": "@jupyter-widgets/base",
            "_view_module_version": "1.2.0",
            "_view_name": "LayoutView",
            "align_content": null,
            "align_items": null,
            "align_self": null,
            "border": null,
            "bottom": null,
            "display": null,
            "flex": null,
            "flex_flow": null,
            "grid_area": null,
            "grid_auto_columns": null,
            "grid_auto_flow": null,
            "grid_auto_rows": null,
            "grid_column": null,
            "grid_gap": null,
            "grid_row": null,
            "grid_template_areas": null,
            "grid_template_columns": null,
            "grid_template_rows": null,
            "height": null,
            "justify_content": null,
            "justify_items": null,
            "left": null,
            "margin": null,
            "max_height": null,
            "max_width": null,
            "min_height": null,
            "min_width": null,
            "object_fit": null,
            "object_position": null,
            "order": null,
            "overflow": null,
            "overflow_x": null,
            "overflow_y": null,
            "padding": null,
            "right": null,
            "top": null,
            "visibility": null,
            "width": null
          }
        },
        "b280c6f8d94e44c38201846f0a97a934": {
          "model_module": "@jupyter-widgets/controls",
          "model_name": "ProgressStyleModel",
          "model_module_version": "1.5.0",
          "state": {
            "_model_module": "@jupyter-widgets/controls",
            "_model_module_version": "1.5.0",
            "_model_name": "ProgressStyleModel",
            "_view_count": null,
            "_view_module": "@jupyter-widgets/base",
            "_view_module_version": "1.2.0",
            "_view_name": "StyleView",
            "bar_color": null,
            "description_width": ""
          }
        },
        "d8e8efab72cc4b009bc558fb8ab5cccc": {
          "model_module": "@jupyter-widgets/base",
          "model_name": "LayoutModel",
          "model_module_version": "1.2.0",
          "state": {
            "_model_module": "@jupyter-widgets/base",
            "_model_module_version": "1.2.0",
            "_model_name": "LayoutModel",
            "_view_count": null,
            "_view_module": "@jupyter-widgets/base",
            "_view_module_version": "1.2.0",
            "_view_name": "LayoutView",
            "align_content": null,
            "align_items": null,
            "align_self": null,
            "border": null,
            "bottom": null,
            "display": null,
            "flex": null,
            "flex_flow": null,
            "grid_area": null,
            "grid_auto_columns": null,
            "grid_auto_flow": null,
            "grid_auto_rows": null,
            "grid_column": null,
            "grid_gap": null,
            "grid_row": null,
            "grid_template_areas": null,
            "grid_template_columns": null,
            "grid_template_rows": null,
            "height": null,
            "justify_content": null,
            "justify_items": null,
            "left": null,
            "margin": null,
            "max_height": null,
            "max_width": null,
            "min_height": null,
            "min_width": null,
            "object_fit": null,
            "object_position": null,
            "order": null,
            "overflow": null,
            "overflow_x": null,
            "overflow_y": null,
            "padding": null,
            "right": null,
            "top": null,
            "visibility": null,
            "width": null
          }
        },
        "dc175e29f9914248999a8073914986a6": {
          "model_module": "@jupyter-widgets/controls",
          "model_name": "DescriptionStyleModel",
          "model_module_version": "1.5.0",
          "state": {
            "_model_module": "@jupyter-widgets/controls",
            "_model_module_version": "1.5.0",
            "_model_name": "DescriptionStyleModel",
            "_view_count": null,
            "_view_module": "@jupyter-widgets/base",
            "_view_module_version": "1.2.0",
            "_view_name": "StyleView",
            "description_width": ""
          }
        },
        "6f1944a54c1d40f2ba4b06eba80fb196": {
          "model_module": "@jupyter-widgets/controls",
          "model_name": "HBoxModel",
          "model_module_version": "1.5.0",
          "state": {
            "_dom_classes": [],
            "_model_module": "@jupyter-widgets/controls",
            "_model_module_version": "1.5.0",
            "_model_name": "HBoxModel",
            "_view_count": null,
            "_view_module": "@jupyter-widgets/controls",
            "_view_module_version": "1.5.0",
            "_view_name": "HBoxView",
            "box_style": "",
            "children": [
              "IPY_MODEL_ff3fbe2268d34a2db719263672562f4a",
              "IPY_MODEL_df989ce547904ef8a4eaf46d7e4f3906",
              "IPY_MODEL_a8a4500eba904298bc639507ffeebfbe"
            ],
            "layout": "IPY_MODEL_1a2330217aae414cbda3a88ceb2aeb15"
          }
        },
        "ff3fbe2268d34a2db719263672562f4a": {
          "model_module": "@jupyter-widgets/controls",
          "model_name": "HTMLModel",
          "model_module_version": "1.5.0",
          "state": {
            "_dom_classes": [],
            "_model_module": "@jupyter-widgets/controls",
            "_model_module_version": "1.5.0",
            "_model_name": "HTMLModel",
            "_view_count": null,
            "_view_module": "@jupyter-widgets/controls",
            "_view_module_version": "1.5.0",
            "_view_name": "HTMLView",
            "description": "",
            "description_tooltip": null,
            "layout": "IPY_MODEL_4e03543dfc544bf48f1ae272b514f292",
            "placeholder": "​",
            "style": "IPY_MODEL_45037111904841fab1de21bef3877c65",
            "value": "Downloading data: 100%"
          }
        },
        "df989ce547904ef8a4eaf46d7e4f3906": {
          "model_module": "@jupyter-widgets/controls",
          "model_name": "FloatProgressModel",
          "model_module_version": "1.5.0",
          "state": {
            "_dom_classes": [],
            "_model_module": "@jupyter-widgets/controls",
            "_model_module_version": "1.5.0",
            "_model_name": "FloatProgressModel",
            "_view_count": null,
            "_view_module": "@jupyter-widgets/controls",
            "_view_module_version": "1.5.0",
            "_view_name": "ProgressView",
            "bar_style": "success",
            "description": "",
            "description_tooltip": null,
            "layout": "IPY_MODEL_75822765e22042d6bb40537b53b5276d",
            "max": 221952536,
            "min": 0,
            "orientation": "horizontal",
            "style": "IPY_MODEL_86ae16d2026c4c6b9b29d700d00992e3",
            "value": 221952536
          }
        },
        "a8a4500eba904298bc639507ffeebfbe": {
          "model_module": "@jupyter-widgets/controls",
          "model_name": "HTMLModel",
          "model_module_version": "1.5.0",
          "state": {
            "_dom_classes": [],
            "_model_module": "@jupyter-widgets/controls",
            "_model_module_version": "1.5.0",
            "_model_name": "HTMLModel",
            "_view_count": null,
            "_view_module": "@jupyter-widgets/controls",
            "_view_module_version": "1.5.0",
            "_view_name": "HTMLView",
            "description": "",
            "description_tooltip": null,
            "layout": "IPY_MODEL_aa685a81d1df4edba9c9681f6eec23cc",
            "placeholder": "​",
            "style": "IPY_MODEL_c6046fd189af499eb254bc0b9cc2038e",
            "value": " 222M/222M [00:10&lt;00:00, 29.1MB/s]"
          }
        },
        "1a2330217aae414cbda3a88ceb2aeb15": {
          "model_module": "@jupyter-widgets/base",
          "model_name": "LayoutModel",
          "model_module_version": "1.2.0",
          "state": {
            "_model_module": "@jupyter-widgets/base",
            "_model_module_version": "1.2.0",
            "_model_name": "LayoutModel",
            "_view_count": null,
            "_view_module": "@jupyter-widgets/base",
            "_view_module_version": "1.2.0",
            "_view_name": "LayoutView",
            "align_content": null,
            "align_items": null,
            "align_self": null,
            "border": null,
            "bottom": null,
            "display": null,
            "flex": null,
            "flex_flow": null,
            "grid_area": null,
            "grid_auto_columns": null,
            "grid_auto_flow": null,
            "grid_auto_rows": null,
            "grid_column": null,
            "grid_gap": null,
            "grid_row": null,
            "grid_template_areas": null,
            "grid_template_columns": null,
            "grid_template_rows": null,
            "height": null,
            "justify_content": null,
            "justify_items": null,
            "left": null,
            "margin": null,
            "max_height": null,
            "max_width": null,
            "min_height": null,
            "min_width": null,
            "object_fit": null,
            "object_position": null,
            "order": null,
            "overflow": null,
            "overflow_x": null,
            "overflow_y": null,
            "padding": null,
            "right": null,
            "top": null,
            "visibility": null,
            "width": null
          }
        },
        "4e03543dfc544bf48f1ae272b514f292": {
          "model_module": "@jupyter-widgets/base",
          "model_name": "LayoutModel",
          "model_module_version": "1.2.0",
          "state": {
            "_model_module": "@jupyter-widgets/base",
            "_model_module_version": "1.2.0",
            "_model_name": "LayoutModel",
            "_view_count": null,
            "_view_module": "@jupyter-widgets/base",
            "_view_module_version": "1.2.0",
            "_view_name": "LayoutView",
            "align_content": null,
            "align_items": null,
            "align_self": null,
            "border": null,
            "bottom": null,
            "display": null,
            "flex": null,
            "flex_flow": null,
            "grid_area": null,
            "grid_auto_columns": null,
            "grid_auto_flow": null,
            "grid_auto_rows": null,
            "grid_column": null,
            "grid_gap": null,
            "grid_row": null,
            "grid_template_areas": null,
            "grid_template_columns": null,
            "grid_template_rows": null,
            "height": null,
            "justify_content": null,
            "justify_items": null,
            "left": null,
            "margin": null,
            "max_height": null,
            "max_width": null,
            "min_height": null,
            "min_width": null,
            "object_fit": null,
            "object_position": null,
            "order": null,
            "overflow": null,
            "overflow_x": null,
            "overflow_y": null,
            "padding": null,
            "right": null,
            "top": null,
            "visibility": null,
            "width": null
          }
        },
        "45037111904841fab1de21bef3877c65": {
          "model_module": "@jupyter-widgets/controls",
          "model_name": "DescriptionStyleModel",
          "model_module_version": "1.5.0",
          "state": {
            "_model_module": "@jupyter-widgets/controls",
            "_model_module_version": "1.5.0",
            "_model_name": "DescriptionStyleModel",
            "_view_count": null,
            "_view_module": "@jupyter-widgets/base",
            "_view_module_version": "1.2.0",
            "_view_name": "StyleView",
            "description_width": ""
          }
        },
        "75822765e22042d6bb40537b53b5276d": {
          "model_module": "@jupyter-widgets/base",
          "model_name": "LayoutModel",
          "model_module_version": "1.2.0",
          "state": {
            "_model_module": "@jupyter-widgets/base",
            "_model_module_version": "1.2.0",
            "_model_name": "LayoutModel",
            "_view_count": null,
            "_view_module": "@jupyter-widgets/base",
            "_view_module_version": "1.2.0",
            "_view_name": "LayoutView",
            "align_content": null,
            "align_items": null,
            "align_self": null,
            "border": null,
            "bottom": null,
            "display": null,
            "flex": null,
            "flex_flow": null,
            "grid_area": null,
            "grid_auto_columns": null,
            "grid_auto_flow": null,
            "grid_auto_rows": null,
            "grid_column": null,
            "grid_gap": null,
            "grid_row": null,
            "grid_template_areas": null,
            "grid_template_columns": null,
            "grid_template_rows": null,
            "height": null,
            "justify_content": null,
            "justify_items": null,
            "left": null,
            "margin": null,
            "max_height": null,
            "max_width": null,
            "min_height": null,
            "min_width": null,
            "object_fit": null,
            "object_position": null,
            "order": null,
            "overflow": null,
            "overflow_x": null,
            "overflow_y": null,
            "padding": null,
            "right": null,
            "top": null,
            "visibility": null,
            "width": null
          }
        },
        "86ae16d2026c4c6b9b29d700d00992e3": {
          "model_module": "@jupyter-widgets/controls",
          "model_name": "ProgressStyleModel",
          "model_module_version": "1.5.0",
          "state": {
            "_model_module": "@jupyter-widgets/controls",
            "_model_module_version": "1.5.0",
            "_model_name": "ProgressStyleModel",
            "_view_count": null,
            "_view_module": "@jupyter-widgets/base",
            "_view_module_version": "1.2.0",
            "_view_name": "StyleView",
            "bar_color": null,
            "description_width": ""
          }
        },
        "aa685a81d1df4edba9c9681f6eec23cc": {
          "model_module": "@jupyter-widgets/base",
          "model_name": "LayoutModel",
          "model_module_version": "1.2.0",
          "state": {
            "_model_module": "@jupyter-widgets/base",
            "_model_module_version": "1.2.0",
            "_model_name": "LayoutModel",
            "_view_count": null,
            "_view_module": "@jupyter-widgets/base",
            "_view_module_version": "1.2.0",
            "_view_name": "LayoutView",
            "align_content": null,
            "align_items": null,
            "align_self": null,
            "border": null,
            "bottom": null,
            "display": null,
            "flex": null,
            "flex_flow": null,
            "grid_area": null,
            "grid_auto_columns": null,
            "grid_auto_flow": null,
            "grid_auto_rows": null,
            "grid_column": null,
            "grid_gap": null,
            "grid_row": null,
            "grid_template_areas": null,
            "grid_template_columns": null,
            "grid_template_rows": null,
            "height": null,
            "justify_content": null,
            "justify_items": null,
            "left": null,
            "margin": null,
            "max_height": null,
            "max_width": null,
            "min_height": null,
            "min_width": null,
            "object_fit": null,
            "object_position": null,
            "order": null,
            "overflow": null,
            "overflow_x": null,
            "overflow_y": null,
            "padding": null,
            "right": null,
            "top": null,
            "visibility": null,
            "width": null
          }
        },
        "c6046fd189af499eb254bc0b9cc2038e": {
          "model_module": "@jupyter-widgets/controls",
          "model_name": "DescriptionStyleModel",
          "model_module_version": "1.5.0",
          "state": {
            "_model_module": "@jupyter-widgets/controls",
            "_model_module_version": "1.5.0",
            "_model_name": "DescriptionStyleModel",
            "_view_count": null,
            "_view_module": "@jupyter-widgets/base",
            "_view_module_version": "1.2.0",
            "_view_name": "StyleView",
            "description_width": ""
          }
        },
        "cfd6efa923d74eb18ae2120a957a8ac0": {
          "model_module": "@jupyter-widgets/controls",
          "model_name": "HBoxModel",
          "model_module_version": "1.5.0",
          "state": {
            "_dom_classes": [],
            "_model_module": "@jupyter-widgets/controls",
            "_model_module_version": "1.5.0",
            "_model_name": "HBoxModel",
            "_view_count": null,
            "_view_module": "@jupyter-widgets/controls",
            "_view_module_version": "1.5.0",
            "_view_name": "HBoxView",
            "box_style": "",
            "children": [
              "IPY_MODEL_081016af191e433c880b89ef69a597a5",
              "IPY_MODEL_c0c8df4f3e3d496e9145978742062694",
              "IPY_MODEL_27da8fca4ef3449f8113144886cc1f62"
            ],
            "layout": "IPY_MODEL_d82bcf1f524b4f9c8b180924c60812f5"
          }
        },
        "081016af191e433c880b89ef69a597a5": {
          "model_module": "@jupyter-widgets/controls",
          "model_name": "HTMLModel",
          "model_module_version": "1.5.0",
          "state": {
            "_dom_classes": [],
            "_model_module": "@jupyter-widgets/controls",
            "_model_module_version": "1.5.0",
            "_model_name": "HTMLModel",
            "_view_count": null,
            "_view_module": "@jupyter-widgets/controls",
            "_view_module_version": "1.5.0",
            "_view_name": "HTMLView",
            "description": "",
            "description_tooltip": null,
            "layout": "IPY_MODEL_e91d5ab6608a4f5db19ce3014674f14e",
            "placeholder": "​",
            "style": "IPY_MODEL_c33b825267f94e29bf8727144f65e9c7",
            "value": "Downloading data: 100%"
          }
        },
        "c0c8df4f3e3d496e9145978742062694": {
          "model_module": "@jupyter-widgets/controls",
          "model_name": "FloatProgressModel",
          "model_module_version": "1.5.0",
          "state": {
            "_dom_classes": [],
            "_model_module": "@jupyter-widgets/controls",
            "_model_module_version": "1.5.0",
            "_model_name": "FloatProgressModel",
            "_view_count": null,
            "_view_module": "@jupyter-widgets/controls",
            "_view_module_version": "1.5.0",
            "_view_name": "ProgressView",
            "bar_style": "success",
            "description": "",
            "description_tooltip": null,
            "layout": "IPY_MODEL_0a1742f929ed46268168ca1bcadcbf60",
            "max": 27489089,
            "min": 0,
            "orientation": "horizontal",
            "style": "IPY_MODEL_fcca6f9f2622423ab70426a5a6bb310d",
            "value": 27489089
          }
        },
        "27da8fca4ef3449f8113144886cc1f62": {
          "model_module": "@jupyter-widgets/controls",
          "model_name": "HTMLModel",
          "model_module_version": "1.5.0",
          "state": {
            "_dom_classes": [],
            "_model_module": "@jupyter-widgets/controls",
            "_model_module_version": "1.5.0",
            "_model_name": "HTMLModel",
            "_view_count": null,
            "_view_module": "@jupyter-widgets/controls",
            "_view_module_version": "1.5.0",
            "_view_name": "HTMLView",
            "description": "",
            "description_tooltip": null,
            "layout": "IPY_MODEL_9226088e729545fdaba763b9b5c29e78",
            "placeholder": "​",
            "style": "IPY_MODEL_91edccb9272045849f2d10a8a4615f99",
            "value": " 27.5M/27.5M [00:01&lt;00:00, 23.9MB/s]"
          }
        },
        "d82bcf1f524b4f9c8b180924c60812f5": {
          "model_module": "@jupyter-widgets/base",
          "model_name": "LayoutModel",
          "model_module_version": "1.2.0",
          "state": {
            "_model_module": "@jupyter-widgets/base",
            "_model_module_version": "1.2.0",
            "_model_name": "LayoutModel",
            "_view_count": null,
            "_view_module": "@jupyter-widgets/base",
            "_view_module_version": "1.2.0",
            "_view_name": "LayoutView",
            "align_content": null,
            "align_items": null,
            "align_self": null,
            "border": null,
            "bottom": null,
            "display": null,
            "flex": null,
            "flex_flow": null,
            "grid_area": null,
            "grid_auto_columns": null,
            "grid_auto_flow": null,
            "grid_auto_rows": null,
            "grid_column": null,
            "grid_gap": null,
            "grid_row": null,
            "grid_template_areas": null,
            "grid_template_columns": null,
            "grid_template_rows": null,
            "height": null,
            "justify_content": null,
            "justify_items": null,
            "left": null,
            "margin": null,
            "max_height": null,
            "max_width": null,
            "min_height": null,
            "min_width": null,
            "object_fit": null,
            "object_position": null,
            "order": null,
            "overflow": null,
            "overflow_x": null,
            "overflow_y": null,
            "padding": null,
            "right": null,
            "top": null,
            "visibility": null,
            "width": null
          }
        },
        "e91d5ab6608a4f5db19ce3014674f14e": {
          "model_module": "@jupyter-widgets/base",
          "model_name": "LayoutModel",
          "model_module_version": "1.2.0",
          "state": {
            "_model_module": "@jupyter-widgets/base",
            "_model_module_version": "1.2.0",
            "_model_name": "LayoutModel",
            "_view_count": null,
            "_view_module": "@jupyter-widgets/base",
            "_view_module_version": "1.2.0",
            "_view_name": "LayoutView",
            "align_content": null,
            "align_items": null,
            "align_self": null,
            "border": null,
            "bottom": null,
            "display": null,
            "flex": null,
            "flex_flow": null,
            "grid_area": null,
            "grid_auto_columns": null,
            "grid_auto_flow": null,
            "grid_auto_rows": null,
            "grid_column": null,
            "grid_gap": null,
            "grid_row": null,
            "grid_template_areas": null,
            "grid_template_columns": null,
            "grid_template_rows": null,
            "height": null,
            "justify_content": null,
            "justify_items": null,
            "left": null,
            "margin": null,
            "max_height": null,
            "max_width": null,
            "min_height": null,
            "min_width": null,
            "object_fit": null,
            "object_position": null,
            "order": null,
            "overflow": null,
            "overflow_x": null,
            "overflow_y": null,
            "padding": null,
            "right": null,
            "top": null,
            "visibility": null,
            "width": null
          }
        },
        "c33b825267f94e29bf8727144f65e9c7": {
          "model_module": "@jupyter-widgets/controls",
          "model_name": "DescriptionStyleModel",
          "model_module_version": "1.5.0",
          "state": {
            "_model_module": "@jupyter-widgets/controls",
            "_model_module_version": "1.5.0",
            "_model_name": "DescriptionStyleModel",
            "_view_count": null,
            "_view_module": "@jupyter-widgets/base",
            "_view_module_version": "1.2.0",
            "_view_name": "StyleView",
            "description_width": ""
          }
        },
        "0a1742f929ed46268168ca1bcadcbf60": {
          "model_module": "@jupyter-widgets/base",
          "model_name": "LayoutModel",
          "model_module_version": "1.2.0",
          "state": {
            "_model_module": "@jupyter-widgets/base",
            "_model_module_version": "1.2.0",
            "_model_name": "LayoutModel",
            "_view_count": null,
            "_view_module": "@jupyter-widgets/base",
            "_view_module_version": "1.2.0",
            "_view_name": "LayoutView",
            "align_content": null,
            "align_items": null,
            "align_self": null,
            "border": null,
            "bottom": null,
            "display": null,
            "flex": null,
            "flex_flow": null,
            "grid_area": null,
            "grid_auto_columns": null,
            "grid_auto_flow": null,
            "grid_auto_rows": null,
            "grid_column": null,
            "grid_gap": null,
            "grid_row": null,
            "grid_template_areas": null,
            "grid_template_columns": null,
            "grid_template_rows": null,
            "height": null,
            "justify_content": null,
            "justify_items": null,
            "left": null,
            "margin": null,
            "max_height": null,
            "max_width": null,
            "min_height": null,
            "min_width": null,
            "object_fit": null,
            "object_position": null,
            "order": null,
            "overflow": null,
            "overflow_x": null,
            "overflow_y": null,
            "padding": null,
            "right": null,
            "top": null,
            "visibility": null,
            "width": null
          }
        },
        "fcca6f9f2622423ab70426a5a6bb310d": {
          "model_module": "@jupyter-widgets/controls",
          "model_name": "ProgressStyleModel",
          "model_module_version": "1.5.0",
          "state": {
            "_model_module": "@jupyter-widgets/controls",
            "_model_module_version": "1.5.0",
            "_model_name": "ProgressStyleModel",
            "_view_count": null,
            "_view_module": "@jupyter-widgets/base",
            "_view_module_version": "1.2.0",
            "_view_name": "StyleView",
            "bar_color": null,
            "description_width": ""
          }
        },
        "9226088e729545fdaba763b9b5c29e78": {
          "model_module": "@jupyter-widgets/base",
          "model_name": "LayoutModel",
          "model_module_version": "1.2.0",
          "state": {
            "_model_module": "@jupyter-widgets/base",
            "_model_module_version": "1.2.0",
            "_model_name": "LayoutModel",
            "_view_count": null,
            "_view_module": "@jupyter-widgets/base",
            "_view_module_version": "1.2.0",
            "_view_name": "LayoutView",
            "align_content": null,
            "align_items": null,
            "align_self": null,
            "border": null,
            "bottom": null,
            "display": null,
            "flex": null,
            "flex_flow": null,
            "grid_area": null,
            "grid_auto_columns": null,
            "grid_auto_flow": null,
            "grid_auto_rows": null,
            "grid_column": null,
            "grid_gap": null,
            "grid_row": null,
            "grid_template_areas": null,
            "grid_template_columns": null,
            "grid_template_rows": null,
            "height": null,
            "justify_content": null,
            "justify_items": null,
            "left": null,
            "margin": null,
            "max_height": null,
            "max_width": null,
            "min_height": null,
            "min_width": null,
            "object_fit": null,
            "object_position": null,
            "order": null,
            "overflow": null,
            "overflow_x": null,
            "overflow_y": null,
            "padding": null,
            "right": null,
            "top": null,
            "visibility": null,
            "width": null
          }
        },
        "91edccb9272045849f2d10a8a4615f99": {
          "model_module": "@jupyter-widgets/controls",
          "model_name": "DescriptionStyleModel",
          "model_module_version": "1.5.0",
          "state": {
            "_model_module": "@jupyter-widgets/controls",
            "_model_module_version": "1.5.0",
            "_model_name": "DescriptionStyleModel",
            "_view_count": null,
            "_view_module": "@jupyter-widgets/base",
            "_view_module_version": "1.2.0",
            "_view_name": "StyleView",
            "description_width": ""
          }
        },
        "837afa38e1014313a636b1c407f12535": {
          "model_module": "@jupyter-widgets/controls",
          "model_name": "HBoxModel",
          "model_module_version": "1.5.0",
          "state": {
            "_dom_classes": [],
            "_model_module": "@jupyter-widgets/controls",
            "_model_module_version": "1.5.0",
            "_model_name": "HBoxModel",
            "_view_count": null,
            "_view_module": "@jupyter-widgets/controls",
            "_view_module_version": "1.5.0",
            "_view_name": "HBoxView",
            "box_style": "",
            "children": [
              "IPY_MODEL_f045ddab479f45edb61fe254b6c04d94",
              "IPY_MODEL_c6a674d029064b2ca01ebade6e31d132",
              "IPY_MODEL_5a73b0cbc87e4eadadac2cb0de6824f0"
            ],
            "layout": "IPY_MODEL_98bf69a872ca4468a5e9ff2754604800"
          }
        },
        "f045ddab479f45edb61fe254b6c04d94": {
          "model_module": "@jupyter-widgets/controls",
          "model_name": "HTMLModel",
          "model_module_version": "1.5.0",
          "state": {
            "_dom_classes": [],
            "_model_module": "@jupyter-widgets/controls",
            "_model_module_version": "1.5.0",
            "_model_name": "HTMLModel",
            "_view_count": null,
            "_view_module": "@jupyter-widgets/controls",
            "_view_module_version": "1.5.0",
            "_view_name": "HTMLView",
            "description": "",
            "description_tooltip": null,
            "layout": "IPY_MODEL_e413be733b3140c2986f94348c64141e",
            "placeholder": "​",
            "style": "IPY_MODEL_f451073c4a5c4fb188d72b4dd119c7f5",
            "value": "Downloading data: 100%"
          }
        },
        "c6a674d029064b2ca01ebade6e31d132": {
          "model_module": "@jupyter-widgets/controls",
          "model_name": "FloatProgressModel",
          "model_module_version": "1.5.0",
          "state": {
            "_dom_classes": [],
            "_model_module": "@jupyter-widgets/controls",
            "_model_module_version": "1.5.0",
            "_model_name": "FloatProgressModel",
            "_view_count": null,
            "_view_module": "@jupyter-widgets/controls",
            "_view_module_version": "1.5.0",
            "_view_name": "ProgressView",
            "bar_style": "success",
            "description": "",
            "description_tooltip": null,
            "layout": "IPY_MODEL_b83dd0ab4e244048a99a4966e8eab2c7",
            "max": 27612708,
            "min": 0,
            "orientation": "horizontal",
            "style": "IPY_MODEL_a96c2e4556a64027a12664f1da508513",
            "value": 27612708
          }
        },
        "5a73b0cbc87e4eadadac2cb0de6824f0": {
          "model_module": "@jupyter-widgets/controls",
          "model_name": "HTMLModel",
          "model_module_version": "1.5.0",
          "state": {
            "_dom_classes": [],
            "_model_module": "@jupyter-widgets/controls",
            "_model_module_version": "1.5.0",
            "_model_name": "HTMLModel",
            "_view_count": null,
            "_view_module": "@jupyter-widgets/controls",
            "_view_module_version": "1.5.0",
            "_view_name": "HTMLView",
            "description": "",
            "description_tooltip": null,
            "layout": "IPY_MODEL_103f8d66b0334729a16d8ce86eed4f9c",
            "placeholder": "​",
            "style": "IPY_MODEL_81ad7a15ab7e48bdab04e73e77bc86be",
            "value": " 27.6M/27.6M [00:01&lt;00:00, 19.1MB/s]"
          }
        },
        "98bf69a872ca4468a5e9ff2754604800": {
          "model_module": "@jupyter-widgets/base",
          "model_name": "LayoutModel",
          "model_module_version": "1.2.0",
          "state": {
            "_model_module": "@jupyter-widgets/base",
            "_model_module_version": "1.2.0",
            "_model_name": "LayoutModel",
            "_view_count": null,
            "_view_module": "@jupyter-widgets/base",
            "_view_module_version": "1.2.0",
            "_view_name": "LayoutView",
            "align_content": null,
            "align_items": null,
            "align_self": null,
            "border": null,
            "bottom": null,
            "display": null,
            "flex": null,
            "flex_flow": null,
            "grid_area": null,
            "grid_auto_columns": null,
            "grid_auto_flow": null,
            "grid_auto_rows": null,
            "grid_column": null,
            "grid_gap": null,
            "grid_row": null,
            "grid_template_areas": null,
            "grid_template_columns": null,
            "grid_template_rows": null,
            "height": null,
            "justify_content": null,
            "justify_items": null,
            "left": null,
            "margin": null,
            "max_height": null,
            "max_width": null,
            "min_height": null,
            "min_width": null,
            "object_fit": null,
            "object_position": null,
            "order": null,
            "overflow": null,
            "overflow_x": null,
            "overflow_y": null,
            "padding": null,
            "right": null,
            "top": null,
            "visibility": null,
            "width": null
          }
        },
        "e413be733b3140c2986f94348c64141e": {
          "model_module": "@jupyter-widgets/base",
          "model_name": "LayoutModel",
          "model_module_version": "1.2.0",
          "state": {
            "_model_module": "@jupyter-widgets/base",
            "_model_module_version": "1.2.0",
            "_model_name": "LayoutModel",
            "_view_count": null,
            "_view_module": "@jupyter-widgets/base",
            "_view_module_version": "1.2.0",
            "_view_name": "LayoutView",
            "align_content": null,
            "align_items": null,
            "align_self": null,
            "border": null,
            "bottom": null,
            "display": null,
            "flex": null,
            "flex_flow": null,
            "grid_area": null,
            "grid_auto_columns": null,
            "grid_auto_flow": null,
            "grid_auto_rows": null,
            "grid_column": null,
            "grid_gap": null,
            "grid_row": null,
            "grid_template_areas": null,
            "grid_template_columns": null,
            "grid_template_rows": null,
            "height": null,
            "justify_content": null,
            "justify_items": null,
            "left": null,
            "margin": null,
            "max_height": null,
            "max_width": null,
            "min_height": null,
            "min_width": null,
            "object_fit": null,
            "object_position": null,
            "order": null,
            "overflow": null,
            "overflow_x": null,
            "overflow_y": null,
            "padding": null,
            "right": null,
            "top": null,
            "visibility": null,
            "width": null
          }
        },
        "f451073c4a5c4fb188d72b4dd119c7f5": {
          "model_module": "@jupyter-widgets/controls",
          "model_name": "DescriptionStyleModel",
          "model_module_version": "1.5.0",
          "state": {
            "_model_module": "@jupyter-widgets/controls",
            "_model_module_version": "1.5.0",
            "_model_name": "DescriptionStyleModel",
            "_view_count": null,
            "_view_module": "@jupyter-widgets/base",
            "_view_module_version": "1.2.0",
            "_view_name": "StyleView",
            "description_width": ""
          }
        },
        "b83dd0ab4e244048a99a4966e8eab2c7": {
          "model_module": "@jupyter-widgets/base",
          "model_name": "LayoutModel",
          "model_module_version": "1.2.0",
          "state": {
            "_model_module": "@jupyter-widgets/base",
            "_model_module_version": "1.2.0",
            "_model_name": "LayoutModel",
            "_view_count": null,
            "_view_module": "@jupyter-widgets/base",
            "_view_module_version": "1.2.0",
            "_view_name": "LayoutView",
            "align_content": null,
            "align_items": null,
            "align_self": null,
            "border": null,
            "bottom": null,
            "display": null,
            "flex": null,
            "flex_flow": null,
            "grid_area": null,
            "grid_auto_columns": null,
            "grid_auto_flow": null,
            "grid_auto_rows": null,
            "grid_column": null,
            "grid_gap": null,
            "grid_row": null,
            "grid_template_areas": null,
            "grid_template_columns": null,
            "grid_template_rows": null,
            "height": null,
            "justify_content": null,
            "justify_items": null,
            "left": null,
            "margin": null,
            "max_height": null,
            "max_width": null,
            "min_height": null,
            "min_width": null,
            "object_fit": null,
            "object_position": null,
            "order": null,
            "overflow": null,
            "overflow_x": null,
            "overflow_y": null,
            "padding": null,
            "right": null,
            "top": null,
            "visibility": null,
            "width": null
          }
        },
        "a96c2e4556a64027a12664f1da508513": {
          "model_module": "@jupyter-widgets/controls",
          "model_name": "ProgressStyleModel",
          "model_module_version": "1.5.0",
          "state": {
            "_model_module": "@jupyter-widgets/controls",
            "_model_module_version": "1.5.0",
            "_model_name": "ProgressStyleModel",
            "_view_count": null,
            "_view_module": "@jupyter-widgets/base",
            "_view_module_version": "1.2.0",
            "_view_name": "StyleView",
            "bar_color": null,
            "description_width": ""
          }
        },
        "103f8d66b0334729a16d8ce86eed4f9c": {
          "model_module": "@jupyter-widgets/base",
          "model_name": "LayoutModel",
          "model_module_version": "1.2.0",
          "state": {
            "_model_module": "@jupyter-widgets/base",
            "_model_module_version": "1.2.0",
            "_model_name": "LayoutModel",
            "_view_count": null,
            "_view_module": "@jupyter-widgets/base",
            "_view_module_version": "1.2.0",
            "_view_name": "LayoutView",
            "align_content": null,
            "align_items": null,
            "align_self": null,
            "border": null,
            "bottom": null,
            "display": null,
            "flex": null,
            "flex_flow": null,
            "grid_area": null,
            "grid_auto_columns": null,
            "grid_auto_flow": null,
            "grid_auto_rows": null,
            "grid_column": null,
            "grid_gap": null,
            "grid_row": null,
            "grid_template_areas": null,
            "grid_template_columns": null,
            "grid_template_rows": null,
            "height": null,
            "justify_content": null,
            "justify_items": null,
            "left": null,
            "margin": null,
            "max_height": null,
            "max_width": null,
            "min_height": null,
            "min_width": null,
            "object_fit": null,
            "object_position": null,
            "order": null,
            "overflow": null,
            "overflow_x": null,
            "overflow_y": null,
            "padding": null,
            "right": null,
            "top": null,
            "visibility": null,
            "width": null
          }
        },
        "81ad7a15ab7e48bdab04e73e77bc86be": {
          "model_module": "@jupyter-widgets/controls",
          "model_name": "DescriptionStyleModel",
          "model_module_version": "1.5.0",
          "state": {
            "_model_module": "@jupyter-widgets/controls",
            "_model_module_version": "1.5.0",
            "_model_name": "DescriptionStyleModel",
            "_view_count": null,
            "_view_module": "@jupyter-widgets/base",
            "_view_module_version": "1.2.0",
            "_view_name": "StyleView",
            "description_width": ""
          }
        },
        "3b2c22b28ec142d89c4cce171ade98cd": {
          "model_module": "@jupyter-widgets/controls",
          "model_name": "HBoxModel",
          "model_module_version": "1.5.0",
          "state": {
            "_dom_classes": [],
            "_model_module": "@jupyter-widgets/controls",
            "_model_module_version": "1.5.0",
            "_model_name": "HBoxModel",
            "_view_count": null,
            "_view_module": "@jupyter-widgets/controls",
            "_view_module_version": "1.5.0",
            "_view_name": "HBoxView",
            "box_style": "",
            "children": [
              "IPY_MODEL_3898deddcfcf459fa02d942bda4b9fcd",
              "IPY_MODEL_c1e1315ed2574c4d8235818e38c38bd0",
              "IPY_MODEL_3068aa3d051e4964907e589989c1094f"
            ],
            "layout": "IPY_MODEL_eb3c5e62bea549d3a43202dcf281f316"
          }
        },
        "3898deddcfcf459fa02d942bda4b9fcd": {
          "model_module": "@jupyter-widgets/controls",
          "model_name": "HTMLModel",
          "model_module_version": "1.5.0",
          "state": {
            "_dom_classes": [],
            "_model_module": "@jupyter-widgets/controls",
            "_model_module_version": "1.5.0",
            "_model_name": "HTMLModel",
            "_view_count": null,
            "_view_module": "@jupyter-widgets/controls",
            "_view_module_version": "1.5.0",
            "_view_name": "HTMLView",
            "description": "",
            "description_tooltip": null,
            "layout": "IPY_MODEL_b483905dfb85421f9e259d9b607fdbd6",
            "placeholder": "​",
            "style": "IPY_MODEL_e38c20118ca64a5f9c5b24cb84ec75fb",
            "value": "Generating train split: "
          }
        },
        "c1e1315ed2574c4d8235818e38c38bd0": {
          "model_module": "@jupyter-widgets/controls",
          "model_name": "FloatProgressModel",
          "model_module_version": "1.5.0",
          "state": {
            "_dom_classes": [],
            "_model_module": "@jupyter-widgets/controls",
            "_model_module_version": "1.5.0",
            "_model_name": "FloatProgressModel",
            "_view_count": null,
            "_view_module": "@jupyter-widgets/controls",
            "_view_module_version": "1.5.0",
            "_view_name": "ProgressView",
            "bar_style": "success",
            "description": "",
            "description_tooltip": null,
            "layout": "IPY_MODEL_5e55d64fa1a749bb8722367de904da78",
            "max": 1,
            "min": 0,
            "orientation": "horizontal",
            "style": "IPY_MODEL_9596b7471ed74f68a031e7e63b27683b",
            "value": 1
          }
        },
        "3068aa3d051e4964907e589989c1094f": {
          "model_module": "@jupyter-widgets/controls",
          "model_name": "HTMLModel",
          "model_module_version": "1.5.0",
          "state": {
            "_dom_classes": [],
            "_model_module": "@jupyter-widgets/controls",
            "_model_module_version": "1.5.0",
            "_model_name": "HTMLModel",
            "_view_count": null,
            "_view_module": "@jupyter-widgets/controls",
            "_view_module_version": "1.5.0",
            "_view_name": "HTMLView",
            "description": "",
            "description_tooltip": null,
            "layout": "IPY_MODEL_33be5890e2c24cba9daaaf70fda5b11d",
            "placeholder": "​",
            "style": "IPY_MODEL_3bf0132b5cb34d268b340b382cf137e7",
            "value": " 185934/0 [00:04&lt;00:00, 42876.68 examples/s]"
          }
        },
        "eb3c5e62bea549d3a43202dcf281f316": {
          "model_module": "@jupyter-widgets/base",
          "model_name": "LayoutModel",
          "model_module_version": "1.2.0",
          "state": {
            "_model_module": "@jupyter-widgets/base",
            "_model_module_version": "1.2.0",
            "_model_name": "LayoutModel",
            "_view_count": null,
            "_view_module": "@jupyter-widgets/base",
            "_view_module_version": "1.2.0",
            "_view_name": "LayoutView",
            "align_content": null,
            "align_items": null,
            "align_self": null,
            "border": null,
            "bottom": null,
            "display": null,
            "flex": null,
            "flex_flow": null,
            "grid_area": null,
            "grid_auto_columns": null,
            "grid_auto_flow": null,
            "grid_auto_rows": null,
            "grid_column": null,
            "grid_gap": null,
            "grid_row": null,
            "grid_template_areas": null,
            "grid_template_columns": null,
            "grid_template_rows": null,
            "height": null,
            "justify_content": null,
            "justify_items": null,
            "left": null,
            "margin": null,
            "max_height": null,
            "max_width": null,
            "min_height": null,
            "min_width": null,
            "object_fit": null,
            "object_position": null,
            "order": null,
            "overflow": null,
            "overflow_x": null,
            "overflow_y": null,
            "padding": null,
            "right": null,
            "top": null,
            "visibility": null,
            "width": null
          }
        },
        "b483905dfb85421f9e259d9b607fdbd6": {
          "model_module": "@jupyter-widgets/base",
          "model_name": "LayoutModel",
          "model_module_version": "1.2.0",
          "state": {
            "_model_module": "@jupyter-widgets/base",
            "_model_module_version": "1.2.0",
            "_model_name": "LayoutModel",
            "_view_count": null,
            "_view_module": "@jupyter-widgets/base",
            "_view_module_version": "1.2.0",
            "_view_name": "LayoutView",
            "align_content": null,
            "align_items": null,
            "align_self": null,
            "border": null,
            "bottom": null,
            "display": null,
            "flex": null,
            "flex_flow": null,
            "grid_area": null,
            "grid_auto_columns": null,
            "grid_auto_flow": null,
            "grid_auto_rows": null,
            "grid_column": null,
            "grid_gap": null,
            "grid_row": null,
            "grid_template_areas": null,
            "grid_template_columns": null,
            "grid_template_rows": null,
            "height": null,
            "justify_content": null,
            "justify_items": null,
            "left": null,
            "margin": null,
            "max_height": null,
            "max_width": null,
            "min_height": null,
            "min_width": null,
            "object_fit": null,
            "object_position": null,
            "order": null,
            "overflow": null,
            "overflow_x": null,
            "overflow_y": null,
            "padding": null,
            "right": null,
            "top": null,
            "visibility": null,
            "width": null
          }
        },
        "e38c20118ca64a5f9c5b24cb84ec75fb": {
          "model_module": "@jupyter-widgets/controls",
          "model_name": "DescriptionStyleModel",
          "model_module_version": "1.5.0",
          "state": {
            "_model_module": "@jupyter-widgets/controls",
            "_model_module_version": "1.5.0",
            "_model_name": "DescriptionStyleModel",
            "_view_count": null,
            "_view_module": "@jupyter-widgets/base",
            "_view_module_version": "1.2.0",
            "_view_name": "StyleView",
            "description_width": ""
          }
        },
        "5e55d64fa1a749bb8722367de904da78": {
          "model_module": "@jupyter-widgets/base",
          "model_name": "LayoutModel",
          "model_module_version": "1.2.0",
          "state": {
            "_model_module": "@jupyter-widgets/base",
            "_model_module_version": "1.2.0",
            "_model_name": "LayoutModel",
            "_view_count": null,
            "_view_module": "@jupyter-widgets/base",
            "_view_module_version": "1.2.0",
            "_view_name": "LayoutView",
            "align_content": null,
            "align_items": null,
            "align_self": null,
            "border": null,
            "bottom": null,
            "display": null,
            "flex": null,
            "flex_flow": null,
            "grid_area": null,
            "grid_auto_columns": null,
            "grid_auto_flow": null,
            "grid_auto_rows": null,
            "grid_column": null,
            "grid_gap": null,
            "grid_row": null,
            "grid_template_areas": null,
            "grid_template_columns": null,
            "grid_template_rows": null,
            "height": null,
            "justify_content": null,
            "justify_items": null,
            "left": null,
            "margin": null,
            "max_height": null,
            "max_width": null,
            "min_height": null,
            "min_width": null,
            "object_fit": null,
            "object_position": null,
            "order": null,
            "overflow": null,
            "overflow_x": null,
            "overflow_y": null,
            "padding": null,
            "right": null,
            "top": null,
            "visibility": null,
            "width": "20px"
          }
        },
        "9596b7471ed74f68a031e7e63b27683b": {
          "model_module": "@jupyter-widgets/controls",
          "model_name": "ProgressStyleModel",
          "model_module_version": "1.5.0",
          "state": {
            "_model_module": "@jupyter-widgets/controls",
            "_model_module_version": "1.5.0",
            "_model_name": "ProgressStyleModel",
            "_view_count": null,
            "_view_module": "@jupyter-widgets/base",
            "_view_module_version": "1.2.0",
            "_view_name": "StyleView",
            "bar_color": null,
            "description_width": ""
          }
        },
        "33be5890e2c24cba9daaaf70fda5b11d": {
          "model_module": "@jupyter-widgets/base",
          "model_name": "LayoutModel",
          "model_module_version": "1.2.0",
          "state": {
            "_model_module": "@jupyter-widgets/base",
            "_model_module_version": "1.2.0",
            "_model_name": "LayoutModel",
            "_view_count": null,
            "_view_module": "@jupyter-widgets/base",
            "_view_module_version": "1.2.0",
            "_view_name": "LayoutView",
            "align_content": null,
            "align_items": null,
            "align_self": null,
            "border": null,
            "bottom": null,
            "display": null,
            "flex": null,
            "flex_flow": null,
            "grid_area": null,
            "grid_auto_columns": null,
            "grid_auto_flow": null,
            "grid_auto_rows": null,
            "grid_column": null,
            "grid_gap": null,
            "grid_row": null,
            "grid_template_areas": null,
            "grid_template_columns": null,
            "grid_template_rows": null,
            "height": null,
            "justify_content": null,
            "justify_items": null,
            "left": null,
            "margin": null,
            "max_height": null,
            "max_width": null,
            "min_height": null,
            "min_width": null,
            "object_fit": null,
            "object_position": null,
            "order": null,
            "overflow": null,
            "overflow_x": null,
            "overflow_y": null,
            "padding": null,
            "right": null,
            "top": null,
            "visibility": null,
            "width": null
          }
        },
        "3bf0132b5cb34d268b340b382cf137e7": {
          "model_module": "@jupyter-widgets/controls",
          "model_name": "DescriptionStyleModel",
          "model_module_version": "1.5.0",
          "state": {
            "_model_module": "@jupyter-widgets/controls",
            "_model_module_version": "1.5.0",
            "_model_name": "DescriptionStyleModel",
            "_view_count": null,
            "_view_module": "@jupyter-widgets/base",
            "_view_module_version": "1.2.0",
            "_view_name": "StyleView",
            "description_width": ""
          }
        },
        "49f12d1f3bbf4cb58f6a0b336e0c3ff4": {
          "model_module": "@jupyter-widgets/controls",
          "model_name": "HBoxModel",
          "model_module_version": "1.5.0",
          "state": {
            "_dom_classes": [],
            "_model_module": "@jupyter-widgets/controls",
            "_model_module_version": "1.5.0",
            "_model_name": "HBoxModel",
            "_view_count": null,
            "_view_module": "@jupyter-widgets/controls",
            "_view_module_version": "1.5.0",
            "_view_name": "HBoxView",
            "box_style": "",
            "children": [
              "IPY_MODEL_0374230130e6432cab733c31417b5bf6",
              "IPY_MODEL_6a68766fdeda4ef2ac9c2266a8c42e3e",
              "IPY_MODEL_06a891e059ff4b92b871bf5f9cd2135c"
            ],
            "layout": "IPY_MODEL_eb611edfddd84a5689c0f1a290873b0d"
          }
        },
        "0374230130e6432cab733c31417b5bf6": {
          "model_module": "@jupyter-widgets/controls",
          "model_name": "HTMLModel",
          "model_module_version": "1.5.0",
          "state": {
            "_dom_classes": [],
            "_model_module": "@jupyter-widgets/controls",
            "_model_module_version": "1.5.0",
            "_model_name": "HTMLModel",
            "_view_count": null,
            "_view_module": "@jupyter-widgets/controls",
            "_view_module_version": "1.5.0",
            "_view_name": "HTMLView",
            "description": "",
            "description_tooltip": null,
            "layout": "IPY_MODEL_52f1f9a7efe542298cfbbbc18aaf65ac",
            "placeholder": "​",
            "style": "IPY_MODEL_f94a85bbd6de46138784a66509af649a",
            "value": "Generating test split: "
          }
        },
        "6a68766fdeda4ef2ac9c2266a8c42e3e": {
          "model_module": "@jupyter-widgets/controls",
          "model_name": "FloatProgressModel",
          "model_module_version": "1.5.0",
          "state": {
            "_dom_classes": [],
            "_model_module": "@jupyter-widgets/controls",
            "_model_module_version": "1.5.0",
            "_model_name": "FloatProgressModel",
            "_view_count": null,
            "_view_module": "@jupyter-widgets/controls",
            "_view_module_version": "1.5.0",
            "_view_name": "ProgressView",
            "bar_style": "success",
            "description": "",
            "description_tooltip": null,
            "layout": "IPY_MODEL_b3c5432c5a884ea08423f9b66d8a58ee",
            "max": 1,
            "min": 0,
            "orientation": "horizontal",
            "style": "IPY_MODEL_edac15d5d5e543a4aeed6a347545acea",
            "value": 1
          }
        },
        "06a891e059ff4b92b871bf5f9cd2135c": {
          "model_module": "@jupyter-widgets/controls",
          "model_name": "HTMLModel",
          "model_module_version": "1.5.0",
          "state": {
            "_dom_classes": [],
            "_model_module": "@jupyter-widgets/controls",
            "_model_module_version": "1.5.0",
            "_model_name": "HTMLModel",
            "_view_count": null,
            "_view_module": "@jupyter-widgets/controls",
            "_view_module_version": "1.5.0",
            "_view_name": "HTMLView",
            "description": "",
            "description_tooltip": null,
            "layout": "IPY_MODEL_85d2481678a84a548c8f2621485efc22",
            "placeholder": "​",
            "style": "IPY_MODEL_8e7cfdb3f3b547e8b804f7b23b915393",
            "value": " 23242/0 [00:00&lt;00:00, 41927.38 examples/s]"
          }
        },
        "eb611edfddd84a5689c0f1a290873b0d": {
          "model_module": "@jupyter-widgets/base",
          "model_name": "LayoutModel",
          "model_module_version": "1.2.0",
          "state": {
            "_model_module": "@jupyter-widgets/base",
            "_model_module_version": "1.2.0",
            "_model_name": "LayoutModel",
            "_view_count": null,
            "_view_module": "@jupyter-widgets/base",
            "_view_module_version": "1.2.0",
            "_view_name": "LayoutView",
            "align_content": null,
            "align_items": null,
            "align_self": null,
            "border": null,
            "bottom": null,
            "display": null,
            "flex": null,
            "flex_flow": null,
            "grid_area": null,
            "grid_auto_columns": null,
            "grid_auto_flow": null,
            "grid_auto_rows": null,
            "grid_column": null,
            "grid_gap": null,
            "grid_row": null,
            "grid_template_areas": null,
            "grid_template_columns": null,
            "grid_template_rows": null,
            "height": null,
            "justify_content": null,
            "justify_items": null,
            "left": null,
            "margin": null,
            "max_height": null,
            "max_width": null,
            "min_height": null,
            "min_width": null,
            "object_fit": null,
            "object_position": null,
            "order": null,
            "overflow": null,
            "overflow_x": null,
            "overflow_y": null,
            "padding": null,
            "right": null,
            "top": null,
            "visibility": null,
            "width": null
          }
        },
        "52f1f9a7efe542298cfbbbc18aaf65ac": {
          "model_module": "@jupyter-widgets/base",
          "model_name": "LayoutModel",
          "model_module_version": "1.2.0",
          "state": {
            "_model_module": "@jupyter-widgets/base",
            "_model_module_version": "1.2.0",
            "_model_name": "LayoutModel",
            "_view_count": null,
            "_view_module": "@jupyter-widgets/base",
            "_view_module_version": "1.2.0",
            "_view_name": "LayoutView",
            "align_content": null,
            "align_items": null,
            "align_self": null,
            "border": null,
            "bottom": null,
            "display": null,
            "flex": null,
            "flex_flow": null,
            "grid_area": null,
            "grid_auto_columns": null,
            "grid_auto_flow": null,
            "grid_auto_rows": null,
            "grid_column": null,
            "grid_gap": null,
            "grid_row": null,
            "grid_template_areas": null,
            "grid_template_columns": null,
            "grid_template_rows": null,
            "height": null,
            "justify_content": null,
            "justify_items": null,
            "left": null,
            "margin": null,
            "max_height": null,
            "max_width": null,
            "min_height": null,
            "min_width": null,
            "object_fit": null,
            "object_position": null,
            "order": null,
            "overflow": null,
            "overflow_x": null,
            "overflow_y": null,
            "padding": null,
            "right": null,
            "top": null,
            "visibility": null,
            "width": null
          }
        },
        "f94a85bbd6de46138784a66509af649a": {
          "model_module": "@jupyter-widgets/controls",
          "model_name": "DescriptionStyleModel",
          "model_module_version": "1.5.0",
          "state": {
            "_model_module": "@jupyter-widgets/controls",
            "_model_module_version": "1.5.0",
            "_model_name": "DescriptionStyleModel",
            "_view_count": null,
            "_view_module": "@jupyter-widgets/base",
            "_view_module_version": "1.2.0",
            "_view_name": "StyleView",
            "description_width": ""
          }
        },
        "b3c5432c5a884ea08423f9b66d8a58ee": {
          "model_module": "@jupyter-widgets/base",
          "model_name": "LayoutModel",
          "model_module_version": "1.2.0",
          "state": {
            "_model_module": "@jupyter-widgets/base",
            "_model_module_version": "1.2.0",
            "_model_name": "LayoutModel",
            "_view_count": null,
            "_view_module": "@jupyter-widgets/base",
            "_view_module_version": "1.2.0",
            "_view_name": "LayoutView",
            "align_content": null,
            "align_items": null,
            "align_self": null,
            "border": null,
            "bottom": null,
            "display": null,
            "flex": null,
            "flex_flow": null,
            "grid_area": null,
            "grid_auto_columns": null,
            "grid_auto_flow": null,
            "grid_auto_rows": null,
            "grid_column": null,
            "grid_gap": null,
            "grid_row": null,
            "grid_template_areas": null,
            "grid_template_columns": null,
            "grid_template_rows": null,
            "height": null,
            "justify_content": null,
            "justify_items": null,
            "left": null,
            "margin": null,
            "max_height": null,
            "max_width": null,
            "min_height": null,
            "min_width": null,
            "object_fit": null,
            "object_position": null,
            "order": null,
            "overflow": null,
            "overflow_x": null,
            "overflow_y": null,
            "padding": null,
            "right": null,
            "top": null,
            "visibility": null,
            "width": "20px"
          }
        },
        "edac15d5d5e543a4aeed6a347545acea": {
          "model_module": "@jupyter-widgets/controls",
          "model_name": "ProgressStyleModel",
          "model_module_version": "1.5.0",
          "state": {
            "_model_module": "@jupyter-widgets/controls",
            "_model_module_version": "1.5.0",
            "_model_name": "ProgressStyleModel",
            "_view_count": null,
            "_view_module": "@jupyter-widgets/base",
            "_view_module_version": "1.2.0",
            "_view_name": "StyleView",
            "bar_color": null,
            "description_width": ""
          }
        },
        "85d2481678a84a548c8f2621485efc22": {
          "model_module": "@jupyter-widgets/base",
          "model_name": "LayoutModel",
          "model_module_version": "1.2.0",
          "state": {
            "_model_module": "@jupyter-widgets/base",
            "_model_module_version": "1.2.0",
            "_model_name": "LayoutModel",
            "_view_count": null,
            "_view_module": "@jupyter-widgets/base",
            "_view_module_version": "1.2.0",
            "_view_name": "LayoutView",
            "align_content": null,
            "align_items": null,
            "align_self": null,
            "border": null,
            "bottom": null,
            "display": null,
            "flex": null,
            "flex_flow": null,
            "grid_area": null,
            "grid_auto_columns": null,
            "grid_auto_flow": null,
            "grid_auto_rows": null,
            "grid_column": null,
            "grid_gap": null,
            "grid_row": null,
            "grid_template_areas": null,
            "grid_template_columns": null,
            "grid_template_rows": null,
            "height": null,
            "justify_content": null,
            "justify_items": null,
            "left": null,
            "margin": null,
            "max_height": null,
            "max_width": null,
            "min_height": null,
            "min_width": null,
            "object_fit": null,
            "object_position": null,
            "order": null,
            "overflow": null,
            "overflow_x": null,
            "overflow_y": null,
            "padding": null,
            "right": null,
            "top": null,
            "visibility": null,
            "width": null
          }
        },
        "8e7cfdb3f3b547e8b804f7b23b915393": {
          "model_module": "@jupyter-widgets/controls",
          "model_name": "DescriptionStyleModel",
          "model_module_version": "1.5.0",
          "state": {
            "_model_module": "@jupyter-widgets/controls",
            "_model_module_version": "1.5.0",
            "_model_name": "DescriptionStyleModel",
            "_view_count": null,
            "_view_module": "@jupyter-widgets/base",
            "_view_module_version": "1.2.0",
            "_view_name": "StyleView",
            "description_width": ""
          }
        },
        "15775764946948719732271dcfcb1e2a": {
          "model_module": "@jupyter-widgets/controls",
          "model_name": "HBoxModel",
          "model_module_version": "1.5.0",
          "state": {
            "_dom_classes": [],
            "_model_module": "@jupyter-widgets/controls",
            "_model_module_version": "1.5.0",
            "_model_name": "HBoxModel",
            "_view_count": null,
            "_view_module": "@jupyter-widgets/controls",
            "_view_module_version": "1.5.0",
            "_view_name": "HBoxView",
            "box_style": "",
            "children": [
              "IPY_MODEL_fc987d84537643c2a8d845c38b73633a",
              "IPY_MODEL_87dfd1ab6955461fb04adf2d54f70978",
              "IPY_MODEL_938bae5712a24d8f8d4ac8ea8bc62d8d"
            ],
            "layout": "IPY_MODEL_7c633bcab1314c7a90d96defcf73c378"
          }
        },
        "fc987d84537643c2a8d845c38b73633a": {
          "model_module": "@jupyter-widgets/controls",
          "model_name": "HTMLModel",
          "model_module_version": "1.5.0",
          "state": {
            "_dom_classes": [],
            "_model_module": "@jupyter-widgets/controls",
            "_model_module_version": "1.5.0",
            "_model_name": "HTMLModel",
            "_view_count": null,
            "_view_module": "@jupyter-widgets/controls",
            "_view_module_version": "1.5.0",
            "_view_name": "HTMLView",
            "description": "",
            "description_tooltip": null,
            "layout": "IPY_MODEL_86316fbd9dd142a3ae785bf9f56174b0",
            "placeholder": "​",
            "style": "IPY_MODEL_bcc2c343fb724a9c930698085042a44d",
            "value": "Generating validation split: "
          }
        },
        "87dfd1ab6955461fb04adf2d54f70978": {
          "model_module": "@jupyter-widgets/controls",
          "model_name": "FloatProgressModel",
          "model_module_version": "1.5.0",
          "state": {
            "_dom_classes": [],
            "_model_module": "@jupyter-widgets/controls",
            "_model_module_version": "1.5.0",
            "_model_name": "FloatProgressModel",
            "_view_count": null,
            "_view_module": "@jupyter-widgets/controls",
            "_view_module_version": "1.5.0",
            "_view_name": "ProgressView",
            "bar_style": "success",
            "description": "",
            "description_tooltip": null,
            "layout": "IPY_MODEL_328d3d405b7e43e391f4b0d8872e3c82",
            "max": 1,
            "min": 0,
            "orientation": "horizontal",
            "style": "IPY_MODEL_bf4caf37d4304cf1b0e4bb1f5907ab09",
            "value": 1
          }
        },
        "938bae5712a24d8f8d4ac8ea8bc62d8d": {
          "model_module": "@jupyter-widgets/controls",
          "model_name": "HTMLModel",
          "model_module_version": "1.5.0",
          "state": {
            "_dom_classes": [],
            "_model_module": "@jupyter-widgets/controls",
            "_model_module_version": "1.5.0",
            "_model_name": "HTMLModel",
            "_view_count": null,
            "_view_module": "@jupyter-widgets/controls",
            "_view_module_version": "1.5.0",
            "_view_name": "HTMLView",
            "description": "",
            "description_tooltip": null,
            "layout": "IPY_MODEL_09f201d99edc448a90f88cbacf90d373",
            "placeholder": "​",
            "style": "IPY_MODEL_0c963ccbc78e40acb63e43ffda5a17d0",
            "value": " 23242/0 [00:00&lt;00:00, 45166.79 examples/s]"
          }
        },
        "7c633bcab1314c7a90d96defcf73c378": {
          "model_module": "@jupyter-widgets/base",
          "model_name": "LayoutModel",
          "model_module_version": "1.2.0",
          "state": {
            "_model_module": "@jupyter-widgets/base",
            "_model_module_version": "1.2.0",
            "_model_name": "LayoutModel",
            "_view_count": null,
            "_view_module": "@jupyter-widgets/base",
            "_view_module_version": "1.2.0",
            "_view_name": "LayoutView",
            "align_content": null,
            "align_items": null,
            "align_self": null,
            "border": null,
            "bottom": null,
            "display": null,
            "flex": null,
            "flex_flow": null,
            "grid_area": null,
            "grid_auto_columns": null,
            "grid_auto_flow": null,
            "grid_auto_rows": null,
            "grid_column": null,
            "grid_gap": null,
            "grid_row": null,
            "grid_template_areas": null,
            "grid_template_columns": null,
            "grid_template_rows": null,
            "height": null,
            "justify_content": null,
            "justify_items": null,
            "left": null,
            "margin": null,
            "max_height": null,
            "max_width": null,
            "min_height": null,
            "min_width": null,
            "object_fit": null,
            "object_position": null,
            "order": null,
            "overflow": null,
            "overflow_x": null,
            "overflow_y": null,
            "padding": null,
            "right": null,
            "top": null,
            "visibility": null,
            "width": null
          }
        },
        "86316fbd9dd142a3ae785bf9f56174b0": {
          "model_module": "@jupyter-widgets/base",
          "model_name": "LayoutModel",
          "model_module_version": "1.2.0",
          "state": {
            "_model_module": "@jupyter-widgets/base",
            "_model_module_version": "1.2.0",
            "_model_name": "LayoutModel",
            "_view_count": null,
            "_view_module": "@jupyter-widgets/base",
            "_view_module_version": "1.2.0",
            "_view_name": "LayoutView",
            "align_content": null,
            "align_items": null,
            "align_self": null,
            "border": null,
            "bottom": null,
            "display": null,
            "flex": null,
            "flex_flow": null,
            "grid_area": null,
            "grid_auto_columns": null,
            "grid_auto_flow": null,
            "grid_auto_rows": null,
            "grid_column": null,
            "grid_gap": null,
            "grid_row": null,
            "grid_template_areas": null,
            "grid_template_columns": null,
            "grid_template_rows": null,
            "height": null,
            "justify_content": null,
            "justify_items": null,
            "left": null,
            "margin": null,
            "max_height": null,
            "max_width": null,
            "min_height": null,
            "min_width": null,
            "object_fit": null,
            "object_position": null,
            "order": null,
            "overflow": null,
            "overflow_x": null,
            "overflow_y": null,
            "padding": null,
            "right": null,
            "top": null,
            "visibility": null,
            "width": null
          }
        },
        "bcc2c343fb724a9c930698085042a44d": {
          "model_module": "@jupyter-widgets/controls",
          "model_name": "DescriptionStyleModel",
          "model_module_version": "1.5.0",
          "state": {
            "_model_module": "@jupyter-widgets/controls",
            "_model_module_version": "1.5.0",
            "_model_name": "DescriptionStyleModel",
            "_view_count": null,
            "_view_module": "@jupyter-widgets/base",
            "_view_module_version": "1.2.0",
            "_view_name": "StyleView",
            "description_width": ""
          }
        },
        "328d3d405b7e43e391f4b0d8872e3c82": {
          "model_module": "@jupyter-widgets/base",
          "model_name": "LayoutModel",
          "model_module_version": "1.2.0",
          "state": {
            "_model_module": "@jupyter-widgets/base",
            "_model_module_version": "1.2.0",
            "_model_name": "LayoutModel",
            "_view_count": null,
            "_view_module": "@jupyter-widgets/base",
            "_view_module_version": "1.2.0",
            "_view_name": "LayoutView",
            "align_content": null,
            "align_items": null,
            "align_self": null,
            "border": null,
            "bottom": null,
            "display": null,
            "flex": null,
            "flex_flow": null,
            "grid_area": null,
            "grid_auto_columns": null,
            "grid_auto_flow": null,
            "grid_auto_rows": null,
            "grid_column": null,
            "grid_gap": null,
            "grid_row": null,
            "grid_template_areas": null,
            "grid_template_columns": null,
            "grid_template_rows": null,
            "height": null,
            "justify_content": null,
            "justify_items": null,
            "left": null,
            "margin": null,
            "max_height": null,
            "max_width": null,
            "min_height": null,
            "min_width": null,
            "object_fit": null,
            "object_position": null,
            "order": null,
            "overflow": null,
            "overflow_x": null,
            "overflow_y": null,
            "padding": null,
            "right": null,
            "top": null,
            "visibility": null,
            "width": "20px"
          }
        },
        "bf4caf37d4304cf1b0e4bb1f5907ab09": {
          "model_module": "@jupyter-widgets/controls",
          "model_name": "ProgressStyleModel",
          "model_module_version": "1.5.0",
          "state": {
            "_model_module": "@jupyter-widgets/controls",
            "_model_module_version": "1.5.0",
            "_model_name": "ProgressStyleModel",
            "_view_count": null,
            "_view_module": "@jupyter-widgets/base",
            "_view_module_version": "1.2.0",
            "_view_name": "StyleView",
            "bar_color": null,
            "description_width": ""
          }
        },
        "09f201d99edc448a90f88cbacf90d373": {
          "model_module": "@jupyter-widgets/base",
          "model_name": "LayoutModel",
          "model_module_version": "1.2.0",
          "state": {
            "_model_module": "@jupyter-widgets/base",
            "_model_module_version": "1.2.0",
            "_model_name": "LayoutModel",
            "_view_count": null,
            "_view_module": "@jupyter-widgets/base",
            "_view_module_version": "1.2.0",
            "_view_name": "LayoutView",
            "align_content": null,
            "align_items": null,
            "align_self": null,
            "border": null,
            "bottom": null,
            "display": null,
            "flex": null,
            "flex_flow": null,
            "grid_area": null,
            "grid_auto_columns": null,
            "grid_auto_flow": null,
            "grid_auto_rows": null,
            "grid_column": null,
            "grid_gap": null,
            "grid_row": null,
            "grid_template_areas": null,
            "grid_template_columns": null,
            "grid_template_rows": null,
            "height": null,
            "justify_content": null,
            "justify_items": null,
            "left": null,
            "margin": null,
            "max_height": null,
            "max_width": null,
            "min_height": null,
            "min_width": null,
            "object_fit": null,
            "object_position": null,
            "order": null,
            "overflow": null,
            "overflow_x": null,
            "overflow_y": null,
            "padding": null,
            "right": null,
            "top": null,
            "visibility": null,
            "width": null
          }
        },
        "0c963ccbc78e40acb63e43ffda5a17d0": {
          "model_module": "@jupyter-widgets/controls",
          "model_name": "DescriptionStyleModel",
          "model_module_version": "1.5.0",
          "state": {
            "_model_module": "@jupyter-widgets/controls",
            "_model_module_version": "1.5.0",
            "_model_name": "DescriptionStyleModel",
            "_view_count": null,
            "_view_module": "@jupyter-widgets/base",
            "_view_module_version": "1.2.0",
            "_view_name": "StyleView",
            "description_width": ""
          }
        }
      }
    },
    "gpuClass": "standard"
  },
  "cells": [
    {
      "cell_type": "markdown",
      "metadata": {
        "id": "view-in-github",
        "colab_type": "text"
      },
      "source": [
        "<a href=\"https://colab.research.google.com/github/leomaurodesenv/big-qa-architecture/blob/main/jupyter/2_Document_Retriever_Experiments.ipynb\" target=\"_parent\"><img src=\"https://colab.research.google.com/assets/colab-badge.svg\" alt=\"Open In Colab\"/></a>"
      ]
    },
    {
      "cell_type": "markdown",
      "source": [
        "# Document Retriever Experiments\n",
        "\n",
        "In Question Answering (QA), queries are run over several documents to extract an answer to user questions, consisting of two main steps: (1) Document Retriever — retrieve the most useful documents that may contain the answer to a given question; (2) Document Reader — a machine reader carefully examines the retrieved documents and frame an answer.\n",
        "\n",
        "In this Jupyter Notebook, we focused in Document Retriever experiments, motivated by the fact that the use of a higher recall algorithm provides a higher end-to-end querying and answering performance.\n",
        "\n",
        "Blog post: [Automatic Question Answering — Document Retriever (Machine Learning)](https://medium.com/wearesinch/automatic-question-answering-document-retriever-machine-learning-f4f473387739)\n"
      ],
      "metadata": {
        "id": "v9wr1UUYIK6b"
      }
    },
    {
      "cell_type": "markdown",
      "source": [
        "---\n",
        "## Setup\n",
        "\n",
        "Packages installation and setups."
      ],
      "metadata": {
        "id": "EGR4hZPgH6c5"
      }
    },
    {
      "cell_type": "markdown",
      "source": [
        "### Package Installation\n",
        "\n",
        "Install Haystack and HuggingFace packages."
      ],
      "metadata": {
        "id": "YkGh8ke-IaUH"
      }
    },
    {
      "cell_type": "code",
      "source": [
        "# Check if you have a GPU running\n",
        "# The code runs in CPU as well\n",
        "!nvidia-smi"
      ],
      "metadata": {
        "colab": {
          "base_uri": "https://localhost:8080/"
        },
        "id": "DC4bqNvPIbR8",
        "outputId": "8248c1f6-e380-482e-aea3-8b8c2fe1ff69"
      },
      "execution_count": 1,
      "outputs": [
        {
          "output_type": "stream",
          "name": "stdout",
          "text": [
            "/bin/bash: line 1: nvidia-smi: command not found\n"
          ]
        }
      ]
    },
    {
      "cell_type": "code",
      "source": [
        "# %%capture\n",
        "# Install the Haystack\n",
        "!pip install pip==22.2.2 --quiet\n",
        "!pip install farm-haystack[colab]==1.8.0 --quiet\n",
        "# !pip install git+https://github.com/deepset-ai/haystack.git#egg=farm-haystack[colab]\n",
        "\n",
        "# Install Huggingface\n",
        "!pip install datasets==2.16.1 --quiet\n",
        "!pip install transformers==4.20.1 --quiet\n",
        "!pip install sentence-transformers==2.2.2 --quiet\n",
        "!echo \"Silent installation with success!\""
      ],
      "metadata": {
        "colab": {
          "base_uri": "https://localhost:8080/"
        },
        "id": "iMD6XeJ5IbO9",
        "outputId": "7819fc62-373b-4ec1-ed6e-e21b71613024"
      },
      "execution_count": 2,
      "outputs": [
        {
          "output_type": "stream",
          "name": "stdout",
          "text": [
            "\u001b[33mWARNING: Running pip as the 'root' user can result in broken permissions and conflicting behaviour with the system package manager. It is recommended to use a virtual environment instead: https://pip.pypa.io/warnings/venv\u001b[0m\u001b[33m\n",
            "\u001b[0m\u001b[33mWARNING: Running pip as the 'root' user can result in broken permissions and conflicting behaviour with the system package manager. It is recommended to use a virtual environment instead: https://pip.pypa.io/warnings/venv\u001b[0m\u001b[33m\n",
            "\u001b[2K     \u001b[90m━━━━━━━━━━━━━━━━━━━━━━━━━━━━━━━━━━━━━━━━\u001b[0m \u001b[32m507.1/507.1 kB\u001b[0m \u001b[31m8.3 MB/s\u001b[0m eta \u001b[36m0:00:00\u001b[0m\n",
            "\u001b[2K     \u001b[90m━━━━━━━━━━━━━━━━━━━━━━━━━━━━━━━━━━━━━━━━\u001b[0m \u001b[32m330.1/330.1 kB\u001b[0m \u001b[31m28.4 MB/s\u001b[0m eta \u001b[36m0:00:00\u001b[0m\n",
            "\u001b[?25h\u001b[31mERROR: pip's dependency resolver does not currently take into account all the packages that are installed. This behaviour is the source of the following dependency conflicts.\n",
            "farm-haystack 1.8.0 requires huggingface-hub<0.8.0,>=0.5.0, but you have huggingface-hub 0.20.3 which is incompatible.\u001b[0m\u001b[31m\n",
            "\u001b[0m\u001b[33mWARNING: Running pip as the 'root' user can result in broken permissions and conflicting behaviour with the system package manager. It is recommended to use a virtual environment instead: https://pip.pypa.io/warnings/venv\u001b[0m\u001b[33m\n",
            "\u001b[0m\u001b[33mWARNING: Running pip as the 'root' user can result in broken permissions and conflicting behaviour with the system package manager. It is recommended to use a virtual environment instead: https://pip.pypa.io/warnings/venv\u001b[0m\u001b[33m\n",
            "\u001b[0m\u001b[33mWARNING: Running pip as the 'root' user can result in broken permissions and conflicting behaviour with the system package manager. It is recommended to use a virtual environment instead: https://pip.pypa.io/warnings/venv\u001b[0m\u001b[33m\n",
            "\u001b[0mSilent installation with success!\n"
          ]
        }
      ]
    },
    {
      "cell_type": "markdown",
      "source": [
        "### Logging\n",
        "\n",
        "We configure how logging messages should be displayed and which log level should be used before importing Haystack."
      ],
      "metadata": {
        "id": "L4iQ7T4PIvPJ"
      }
    },
    {
      "cell_type": "code",
      "source": [
        "import logging\n",
        "\n",
        "# Setup Haystack logging format\n",
        "logging.basicConfig(format=\"%(levelname)s - %(message)s\", level=logging.WARNING)\n",
        "logging.getLogger(\"haystack\").setLevel(logging.INFO)"
      ],
      "metadata": {
        "id": "hMfET8t-IbL6"
      },
      "execution_count": 3,
      "outputs": []
    },
    {
      "cell_type": "markdown",
      "source": [
        "### Run Configuration\n",
        "\n",
        "Choose the dataset and the Document Retriever algorithm."
      ],
      "metadata": {
        "id": "LqIZutYnIWL9"
      }
    },
    {
      "cell_type": "code",
      "source": [
        "import enum\n",
        "\n",
        "class Dataset(enum.Enum):\n",
        "    '''Dataset options'''\n",
        "    SQuAD = 1\n",
        "    AdvQA = 2\n",
        "    DuoRC = 3\n",
        "    QASports = 4\n",
        "\n",
        "class DocRetriever(enum.Enum):\n",
        "    '''Document Retriever options'''\n",
        "    BM25  = 1\n",
        "    TFIDF = 2\n",
        "    DPR   = 3"
      ],
      "metadata": {
        "id": "FaOm6ZVOgMFp"
      },
      "execution_count": 4,
      "outputs": []
    },
    {
      "cell_type": "code",
      "source": [
        "# run configuration\n",
        "NUM_K         = 1 # 1, 3, 5, 10, 20\n",
        "DATASET       = Dataset.QASports\n",
        "DOC_RETRIEVER = DocRetriever.BM25"
      ],
      "metadata": {
        "id": "R73W3vDbH7cc"
      },
      "execution_count": 5,
      "outputs": []
    },
    {
      "cell_type": "markdown",
      "source": [
        "---\n",
        "## Document Store\n",
        "\n",
        "We are going to use Elasticsearch as Document Store; Elasticsearch supports queries using [full-text based](https://www.elastic.co/guide/en/elasticsearch/reference/current/full-text-queries.html), [BM25 retrieval](https://www.elastic.co/elasticon/conf/2016/sf/improved-text-scoring-with-bm25), and [vector space for text embeddings](https://www.elastic.co/guide/en/elasticsearch/reference/7.6/dense-vector.html)."
      ],
      "metadata": {
        "id": "dtncgH9ZJFJA"
      }
    },
    {
      "cell_type": "markdown",
      "source": [
        "### Starting the Elasticsearch\n",
        "We manually download and execute the Elasticsearch server."
      ],
      "metadata": {
        "id": "pde1DUfyJOJ9"
      }
    },
    {
      "cell_type": "code",
      "source": [
        "# In Colab / No Docker environments: Start Elasticsearch from source\n",
        "!wget https://artifacts.elastic.co/downloads/elasticsearch/elasticsearch-7.9.2-linux-x86_64.tar.gz -q\n",
        "!tar -xzf elasticsearch-7.9.2-linux-x86_64.tar.gz\n",
        "!chown -R daemon:daemon elasticsearch-7.9.2\n",
        "\n",
        "import os\n",
        "from subprocess import Popen, PIPE, STDOUT\n",
        "\n",
        "es_server = Popen(\n",
        "    [\"elasticsearch-7.9.2/bin/elasticsearch\"], stdout=PIPE, stderr=STDOUT, preexec_fn=lambda: os.setuid(1)  # as daemon\n",
        ")\n",
        "# wait until ES has started\n",
        "!sleep 30"
      ],
      "metadata": {
        "id": "gLueLlUhIbI7"
      },
      "execution_count": 6,
      "outputs": []
    },
    {
      "cell_type": "code",
      "source": [
        "# Connect to Elasticsearch\n",
        "from haystack.document_stores import ElasticsearchDocumentStore\n",
        "\n",
        "document_store = ElasticsearchDocumentStore(host=\"localhost\", username=\"\", password=\"\", index=\"document\")"
      ],
      "metadata": {
        "id": "-BRhKWCYIbF2"
      },
      "execution_count": 7,
      "outputs": []
    },
    {
      "cell_type": "markdown",
      "source": [
        "---\n",
        "## Dataset\n",
        "\n",
        "Imports and downloads the respective dataset."
      ],
      "metadata": {
        "id": "mBhBhdaEJhTC"
      }
    },
    {
      "cell_type": "markdown",
      "source": [
        "### Abstract Dataset"
      ],
      "metadata": {
        "id": "3HKHx0F1VNCK"
      }
    },
    {
      "cell_type": "code",
      "source": [
        "import pandas as pd\n",
        "from abc import ABCMeta, abstractmethod\n",
        "\n",
        "class AbstactDataset(metaclass = ABCMeta):\n",
        "    '''Abstract dataset class'''\n",
        "\n",
        "    def __init__(self):\n",
        "        self.raw_dataset = self.download()\n",
        "        self.df_dataset = self._transform_df()\n",
        "        print(f\"## {self.name} ##\")\n",
        "        print(self.raw_dataset)\n",
        "\n",
        "    def _transform_df(self):\n",
        "        '''Transform dataset in a pd.DataFrame'''\n",
        "        return pd.DataFrame(self.raw_dataset)\n",
        "\n",
        "    @property\n",
        "    @abstractmethod\n",
        "    def name(self):\n",
        "        '''Dataset name'''\n",
        "        pass\n",
        "\n",
        "    @abstractmethod\n",
        "    def download(self):\n",
        "        '''Download the dataset'''\n",
        "        pass\n",
        "\n",
        "    @abstractmethod\n",
        "    def get_documents(self):\n",
        "        '''Get the unique documents to store into the Document Store'''\n",
        "        pass\n",
        "\n",
        "\n",
        "    @abstractmethod\n",
        "    def get_validation(self):\n",
        "        '''Get the validation set'''\n",
        "        pass"
      ],
      "metadata": {
        "id": "W9hGwDWWKGfe"
      },
      "execution_count": 8,
      "outputs": []
    },
    {
      "cell_type": "markdown",
      "source": [
        "### SQuaD Dataset\n",
        "\n",
        "https://huggingface.co/datasets/squad"
      ],
      "metadata": {
        "id": "x-I5zhpEVQHW"
      }
    },
    {
      "cell_type": "code",
      "source": [
        "import mmh3\n",
        "from datasets import load_dataset\n",
        "from haystack.schema import Label, Document, Answer\n",
        "from haystack.schema import EvaluationResult, MultiLabel\n",
        "\n",
        "class SQuadDataset(AbstactDataset):\n",
        "    '''SQuaD Dataset'''\n",
        "    name = \"SQuaD Dataset\"\n",
        "    _columns = {\n",
        "        \"title\": \"title\",\n",
        "        \"document\": \"context\",\n",
        "        \"question\": \"question\",\n",
        "    }\n",
        "    _metadata = {\n",
        "        \"dataset_id\": \"id\"\n",
        "    }\n",
        "\n",
        "    def download(self):\n",
        "        return load_dataset(\"squad\", split=\"validation\")\n",
        "\n",
        "    def get_documents(self):\n",
        "        # Remove duplicated contents\n",
        "        cc = self._columns\n",
        "        dataset_name = f\"{self.name}\"\n",
        "        df = self.df_dataset\n",
        "        df = df.drop_duplicates(subset=[cc[\"title\"], cc[\"document\"]], keep=\"first\")\n",
        "\n",
        "        # Create Haystack Document objects\n",
        "        list_docs = []\n",
        "        for _, row in df.iterrows():\n",
        "            document_id = mmh3.hash128(row[cc[\"document\"]], signed=False)\n",
        "            doc_metadata = {k: row[v] for k,v in self._metadata.items()}\n",
        "            doc_metadata[\"title\"] = row[cc[\"title\"]]\n",
        "            doc_metadata[\"dataset_name\"] = dataset_name\n",
        "            doc = Document(\n",
        "                id=document_id,\n",
        "                content_type=\"text\",\n",
        "                content=row[cc[\"document\"]],\n",
        "                meta=doc_metadata\n",
        "            )\n",
        "            list_docs.append(doc)\n",
        "        return list_docs\n",
        "\n",
        "    def _get_answer(self, data):\n",
        "        # Get question answer\n",
        "        return data[\"answers\"][\"text\"][0]\n",
        "\n",
        "    def get_validation(self):\n",
        "        # Get dataset info\n",
        "        cc = self._columns\n",
        "        df = self.df_dataset\n",
        "        _self = self\n",
        "\n",
        "        # Create Haystack labels\n",
        "        eval_labels = []\n",
        "        for _, row in df.iterrows():\n",
        "            document_id = mmh3.hash128(row[cc[\"document\"]], signed=False)\n",
        "            doc_label = MultiLabel(labels=[\n",
        "                Label(\n",
        "                    query = row[cc[\"question\"]],\n",
        "                    answer = Answer(\n",
        "                        answer=_self._get_answer(row),\n",
        "                        type=\"extractive\",\n",
        "                    ),\n",
        "                    document = Document(\n",
        "                        id=document_id,\n",
        "                        content_type=\"text\",\n",
        "                        content=row[cc[\"document\"]],\n",
        "                    ),\n",
        "                    is_correct_answer=True,\n",
        "                    is_correct_document=True,\n",
        "                    origin=\"gold-label\",\n",
        "                )\n",
        "            ])\n",
        "            eval_labels.append(doc_label)\n",
        "        return eval_labels"
      ],
      "metadata": {
        "id": "PpYws_9qIbAZ"
      },
      "execution_count": 9,
      "outputs": []
    },
    {
      "cell_type": "markdown",
      "source": [
        "### AdversarialQA Dataset\n",
        "\n",
        "https://huggingface.co/datasets/adversarial_qa"
      ],
      "metadata": {
        "id": "cwTiflFj4rzz"
      }
    },
    {
      "cell_type": "code",
      "source": [
        "class AdversarialQADataset(SQuadDataset):\n",
        "    '''AdversarialQA Dataset'''\n",
        "    name = \"AdversarialQA Dataset\"\n",
        "\n",
        "    def download(self):\n",
        "        return load_dataset(\"adversarial_qa\", \"adversarialQA\", split=\"validation\")"
      ],
      "metadata": {
        "id": "GBeOsUVq4rg_"
      },
      "execution_count": 10,
      "outputs": []
    },
    {
      "cell_type": "markdown",
      "source": [
        "### DuoRC Dataset\n",
        "\n",
        "https://huggingface.co/datasets/duorc"
      ],
      "metadata": {
        "id": "V9wk72kP69cW"
      }
    },
    {
      "cell_type": "code",
      "source": [
        "class DuoRCDataset(SQuadDataset):\n",
        "    '''DuoRC  Dataset'''\n",
        "    name = \"DuoRC Dataset\"\n",
        "    _columns = {\n",
        "        \"title\": \"title\",\n",
        "        \"document\": \"plot\",\n",
        "        \"question\": \"question\",\n",
        "    }\n",
        "    _metadata = {\n",
        "        \"dataset_id\": \"question_id\"\n",
        "    }\n",
        "\n",
        "    def download(self):\n",
        "        return load_dataset(\"duorc\", \"SelfRC\", split=\"validation\")\n",
        "\n",
        "    def _transform_df(self):\n",
        "        '''Transform dataset in a pd.DataFrame'''\n",
        "        df = pd.DataFrame(self.raw_dataset)\n",
        "        # Get questions with answer\n",
        "        return df[~df[\"no_answer\"]]\n",
        "\n",
        "    def _get_answer(self, data):\n",
        "        # Get question answer\n",
        "        return data[\"answers\"][0]"
      ],
      "metadata": {
        "id": "rHHyNQ8j7B-D"
      },
      "execution_count": 11,
      "outputs": []
    },
    {
      "cell_type": "markdown",
      "source": [
        "### QASports Dataset / Basketball\n",
        "\n",
        "https://huggingface.co/datasets/PedroCJardim/QASports"
      ],
      "metadata": {
        "id": "hIr_M079aSVk"
      }
    },
    {
      "cell_type": "code",
      "source": [
        "class QASportsDataset(SQuadDataset):\n",
        "    '''QASports  Dataset'''\n",
        "    name = \"QASports Dataset\"\n",
        "    _columns = {\n",
        "        \"title\": \"context_title\",\n",
        "        \"document\": \"context\",\n",
        "        \"question\": \"question\",\n",
        "    }\n",
        "    _metadata = {\n",
        "        \"dataset_id\": \"id_qa\"\n",
        "    }\n",
        "\n",
        "    def download(self):\n",
        "        return load_dataset(\"PedroCJardim/QASports\", \"basketball\", split=\"validation\")\n",
        "\n",
        "    def _transform_df(self):\n",
        "        '''Transform dataset in a pd.DataFrame'''\n",
        "        df = pd.DataFrame(self.raw_dataset)\n",
        "        # Get questions with answer\n",
        "        df[\"answer\"] = df[\"answer\"].apply(eval)\n",
        "        mask = df[\"answer\"].apply(lambda x: True if x[\"text\"] != \"\" else False)\n",
        "        return df[mask]\n",
        "\n",
        "    def _get_answer(self, data):\n",
        "        # Get question answer\n",
        "        return data[\"answer\"][\"text\"]"
      ],
      "metadata": {
        "id": "e3HjLQzidU-7"
      },
      "execution_count": 12,
      "outputs": []
    },
    {
      "cell_type": "markdown",
      "source": [
        "### Download the dataset\n",
        "\n",
        "Get the dataset and store its documents into the Document Store."
      ],
      "metadata": {
        "id": "xGC6aaS1VU3d"
      }
    },
    {
      "cell_type": "code",
      "source": [
        "def dataset_switch(choice):\n",
        "    '''Get dataset class'''\n",
        "\n",
        "    if choice == Dataset.SQuAD:\n",
        "        return SQuadDataset()\n",
        "    elif choice == Dataset.AdvQA:\n",
        "        return AdversarialQADataset()\n",
        "    elif choice == Dataset.DuoRC:\n",
        "        return DuoRCDataset()\n",
        "    elif choice == Dataset.QASports:\n",
        "        return QASportsDataset()\n",
        "    else:\n",
        "        return \"Invalid dataset\"\n",
        "\n",
        "# Get the dataset\n",
        "dataset = dataset_switch(DATASET)"
      ],
      "metadata": {
        "id": "Va1Jn6mStXhf",
        "colab": {
          "base_uri": "https://localhost:8080/",
          "height": 438,
          "referenced_widgets": [
            "9bffc69f050c4bf2936dc9fd8cb8554b",
            "95e54543a3104d9188a9dc577866fb72",
            "6a37f47be44846eaacdeb0f0fda687d4",
            "e636c9617c564e7dbf8aedab89069d7e",
            "64debe96eb454b52913d94dfeccb73d1",
            "7c1d544f36cd466ea0fd25c4e3fe528b",
            "1301e1c713644ec2a5980796aa57e7dd",
            "d4fa2efa119341eea007988d340d2839",
            "b280c6f8d94e44c38201846f0a97a934",
            "d8e8efab72cc4b009bc558fb8ab5cccc",
            "dc175e29f9914248999a8073914986a6",
            "6f1944a54c1d40f2ba4b06eba80fb196",
            "ff3fbe2268d34a2db719263672562f4a",
            "df989ce547904ef8a4eaf46d7e4f3906",
            "a8a4500eba904298bc639507ffeebfbe",
            "1a2330217aae414cbda3a88ceb2aeb15",
            "4e03543dfc544bf48f1ae272b514f292",
            "45037111904841fab1de21bef3877c65",
            "75822765e22042d6bb40537b53b5276d",
            "86ae16d2026c4c6b9b29d700d00992e3",
            "aa685a81d1df4edba9c9681f6eec23cc",
            "c6046fd189af499eb254bc0b9cc2038e",
            "cfd6efa923d74eb18ae2120a957a8ac0",
            "081016af191e433c880b89ef69a597a5",
            "c0c8df4f3e3d496e9145978742062694",
            "27da8fca4ef3449f8113144886cc1f62",
            "d82bcf1f524b4f9c8b180924c60812f5",
            "e91d5ab6608a4f5db19ce3014674f14e",
            "c33b825267f94e29bf8727144f65e9c7",
            "0a1742f929ed46268168ca1bcadcbf60",
            "fcca6f9f2622423ab70426a5a6bb310d",
            "9226088e729545fdaba763b9b5c29e78",
            "91edccb9272045849f2d10a8a4615f99",
            "837afa38e1014313a636b1c407f12535",
            "f045ddab479f45edb61fe254b6c04d94",
            "c6a674d029064b2ca01ebade6e31d132",
            "5a73b0cbc87e4eadadac2cb0de6824f0",
            "98bf69a872ca4468a5e9ff2754604800",
            "e413be733b3140c2986f94348c64141e",
            "f451073c4a5c4fb188d72b4dd119c7f5",
            "b83dd0ab4e244048a99a4966e8eab2c7",
            "a96c2e4556a64027a12664f1da508513",
            "103f8d66b0334729a16d8ce86eed4f9c",
            "81ad7a15ab7e48bdab04e73e77bc86be",
            "3b2c22b28ec142d89c4cce171ade98cd",
            "3898deddcfcf459fa02d942bda4b9fcd",
            "c1e1315ed2574c4d8235818e38c38bd0",
            "3068aa3d051e4964907e589989c1094f",
            "eb3c5e62bea549d3a43202dcf281f316",
            "b483905dfb85421f9e259d9b607fdbd6",
            "e38c20118ca64a5f9c5b24cb84ec75fb",
            "5e55d64fa1a749bb8722367de904da78",
            "9596b7471ed74f68a031e7e63b27683b",
            "33be5890e2c24cba9daaaf70fda5b11d",
            "3bf0132b5cb34d268b340b382cf137e7",
            "49f12d1f3bbf4cb58f6a0b336e0c3ff4",
            "0374230130e6432cab733c31417b5bf6",
            "6a68766fdeda4ef2ac9c2266a8c42e3e",
            "06a891e059ff4b92b871bf5f9cd2135c",
            "eb611edfddd84a5689c0f1a290873b0d",
            "52f1f9a7efe542298cfbbbc18aaf65ac",
            "f94a85bbd6de46138784a66509af649a",
            "b3c5432c5a884ea08423f9b66d8a58ee",
            "edac15d5d5e543a4aeed6a347545acea",
            "85d2481678a84a548c8f2621485efc22",
            "8e7cfdb3f3b547e8b804f7b23b915393",
            "15775764946948719732271dcfcb1e2a",
            "fc987d84537643c2a8d845c38b73633a",
            "87dfd1ab6955461fb04adf2d54f70978",
            "938bae5712a24d8f8d4ac8ea8bc62d8d",
            "7c633bcab1314c7a90d96defcf73c378",
            "86316fbd9dd142a3ae785bf9f56174b0",
            "bcc2c343fb724a9c930698085042a44d",
            "328d3d405b7e43e391f4b0d8872e3c82",
            "bf4caf37d4304cf1b0e4bb1f5907ab09",
            "09f201d99edc448a90f88cbacf90d373",
            "0c963ccbc78e40acb63e43ffda5a17d0"
          ]
        },
        "outputId": "0b6e86b6-96ba-4794-f944-d3e9b62eae69"
      },
      "execution_count": 13,
      "outputs": [
        {
          "output_type": "stream",
          "name": "stderr",
          "text": [
            "/usr/local/lib/python3.10/dist-packages/huggingface_hub/utils/_token.py:88: UserWarning: \n",
            "The secret `HF_TOKEN` does not exist in your Colab secrets.\n",
            "To authenticate with the Hugging Face Hub, create a token in your settings tab (https://huggingface.co/settings/tokens), set it as secret in your Google Colab and restart your session.\n",
            "You will be able to reuse this secret in all of your notebooks.\n",
            "Please note that authentication is recommended but still optional to access public models or datasets.\n",
            "  warnings.warn(\n"
          ]
        },
        {
          "output_type": "display_data",
          "data": {
            "text/plain": [
              "Downloading readme:   0%|          | 0.00/3.55k [00:00<?, ?B/s]"
            ],
            "application/vnd.jupyter.widget-view+json": {
              "version_major": 2,
              "version_minor": 0,
              "model_id": "9bffc69f050c4bf2936dc9fd8cb8554b"
            }
          },
          "metadata": {}
        },
        {
          "output_type": "display_data",
          "data": {
            "text/plain": [
              "Downloading data:   0%|          | 0.00/222M [00:00<?, ?B/s]"
            ],
            "application/vnd.jupyter.widget-view+json": {
              "version_major": 2,
              "version_minor": 0,
              "model_id": "6f1944a54c1d40f2ba4b06eba80fb196"
            }
          },
          "metadata": {}
        },
        {
          "output_type": "display_data",
          "data": {
            "text/plain": [
              "Downloading data:   0%|          | 0.00/27.5M [00:00<?, ?B/s]"
            ],
            "application/vnd.jupyter.widget-view+json": {
              "version_major": 2,
              "version_minor": 0,
              "model_id": "cfd6efa923d74eb18ae2120a957a8ac0"
            }
          },
          "metadata": {}
        },
        {
          "output_type": "display_data",
          "data": {
            "text/plain": [
              "Downloading data:   0%|          | 0.00/27.6M [00:00<?, ?B/s]"
            ],
            "application/vnd.jupyter.widget-view+json": {
              "version_major": 2,
              "version_minor": 0,
              "model_id": "837afa38e1014313a636b1c407f12535"
            }
          },
          "metadata": {}
        },
        {
          "output_type": "display_data",
          "data": {
            "text/plain": [
              "Generating train split: 0 examples [00:00, ? examples/s]"
            ],
            "application/vnd.jupyter.widget-view+json": {
              "version_major": 2,
              "version_minor": 0,
              "model_id": "3b2c22b28ec142d89c4cce171ade98cd"
            }
          },
          "metadata": {}
        },
        {
          "output_type": "display_data",
          "data": {
            "text/plain": [
              "Generating test split: 0 examples [00:00, ? examples/s]"
            ],
            "application/vnd.jupyter.widget-view+json": {
              "version_major": 2,
              "version_minor": 0,
              "model_id": "49f12d1f3bbf4cb58f6a0b336e0c3ff4"
            }
          },
          "metadata": {}
        },
        {
          "output_type": "display_data",
          "data": {
            "text/plain": [
              "Generating validation split: 0 examples [00:00, ? examples/s]"
            ],
            "application/vnd.jupyter.widget-view+json": {
              "version_major": 2,
              "version_minor": 0,
              "model_id": "15775764946948719732271dcfcb1e2a"
            }
          },
          "metadata": {}
        },
        {
          "output_type": "stream",
          "name": "stdout",
          "text": [
            "## QASports Dataset ##\n",
            "Dataset({\n",
            "    features: ['id_qa', 'context_id', 'context', 'question', 'answer', 'context_title', 'context_categories', 'url'],\n",
            "    num_rows: 23242\n",
            "})\n"
          ]
        }
      ]
    },
    {
      "cell_type": "code",
      "source": [
        "# Store documents in the Document Store\n",
        "docs = dataset.get_documents()\n",
        "document_store.write_documents(docs)"
      ],
      "metadata": {
        "id": "8QXxjJoOTT2O"
      },
      "execution_count": 14,
      "outputs": []
    },
    {
      "cell_type": "markdown",
      "source": [
        "---\n",
        "## Document Retriever\n",
        "\n",
        "In this experiment, we explored the BM25, TF-IDF and Dense Passage Retrieval (DPR).\n",
        "\n",
        "* https://docs.haystack.deepset.ai/docs/retriever\n",
        "* https://github.com/facebookresearch/DPR\n",
        "* https://www.elastic.co/pt/blog/practical-bm25-part-2-the-bm25-algorithm-and-its-variables"
      ],
      "metadata": {
        "id": "Rjui_SHNVhob"
      }
    },
    {
      "cell_type": "markdown",
      "source": [
        "### Get the Retriever"
      ],
      "metadata": {
        "id": "h40cQkmwca0z"
      }
    },
    {
      "cell_type": "code",
      "source": [
        "from haystack.nodes import BM25Retriever\n",
        "from haystack.nodes import TfidfRetriever\n",
        "from haystack.nodes import DensePassageRetriever\n",
        "\n",
        "def retriever_switch(choice, document_store):\n",
        "    '''Get Retriever object'''\n",
        "\n",
        "    if choice == DocRetriever.BM25:\n",
        "        retriever = BM25Retriever(document_store=document_store)\n",
        "        return retriever\n",
        "    elif choice == DocRetriever.TFIDF:\n",
        "        retriever = TfidfRetriever(document_store=document_store)\n",
        "        return retriever\n",
        "    elif choice == DocRetriever.DPR:\n",
        "        retriever = DensePassageRetriever(\n",
        "            document_store=document_store,\n",
        "            query_embedding_model=\"facebook/dpr-question_encoder-single-nq-base\",\n",
        "            passage_embedding_model=\"facebook/dpr-ctx_encoder-single-nq-base\",\n",
        "            use_fast_tokenizers=True\n",
        "        )\n",
        "        document_store.update_embeddings(retriever)\n",
        "        return retriever\n",
        "    else:\n",
        "        return \"Invalid retriever\"\n",
        "\n",
        "# Get the retriever\n",
        "retriever = retriever_switch(DOC_RETRIEVER, document_store)\n",
        "retriever"
      ],
      "metadata": {
        "id": "NCc3yB2zVhZt",
        "colab": {
          "base_uri": "https://localhost:8080/"
        },
        "outputId": "25f49ccd-8cbd-4b13-d5ef-3e2b4faed56a"
      },
      "execution_count": 15,
      "outputs": [
        {
          "output_type": "execute_result",
          "data": {
            "text/plain": [
              "<haystack.nodes.retriever.sparse.BM25Retriever at 0x7cf7332957b0>"
            ]
          },
          "metadata": {},
          "execution_count": 15
        }
      ]
    },
    {
      "cell_type": "markdown",
      "source": [
        "### Build the Pipeline"
      ],
      "metadata": {
        "id": "gL6XlZE_cdo0"
      }
    },
    {
      "cell_type": "code",
      "source": [
        "from haystack.pipelines import DocumentSearchPipeline\n",
        "\n",
        "pipe = DocumentSearchPipeline(retriever=retriever)"
      ],
      "metadata": {
        "id": "zp_SeAbTVhVp"
      },
      "execution_count": 16,
      "outputs": []
    },
    {
      "cell_type": "code",
      "source": [
        "# Testing the pipeline\n",
        "from haystack.utils import print_documents\n",
        "\n",
        "# Querying documents\n",
        "question = \"What is your name?\"\n",
        "prediction = pipe.run(query=question, params={\"Retriever\": {\"top_k\": 1}})\n",
        "\n",
        "# Print answer\n",
        "print_documents(prediction)"
      ],
      "metadata": {
        "id": "VdwWI_FKVhSR",
        "colab": {
          "base_uri": "https://localhost:8080/"
        },
        "outputId": "3cc9d2b6-7f4e-481e-caeb-91cc9604f989"
      },
      "execution_count": 17,
      "outputs": [
        {
          "output_type": "stream",
          "name": "stdout",
          "text": [
            "\n",
            "Query: What is your name?\n",
            "\n",
            "{   'content': \" As a testament to Cousy's legacy, President John F. Kennedy \"\n",
            "               'wired to Cousy: The game bears the indelible stamp of your '\n",
            "               'rare skills and competitive daring, and it will serve as a '\n",
            "               'living reminder of your long and illustrious career so long as '\n",
            "               'it is played.\"',\n",
            "    'name': None}\n",
            "\n"
          ]
        }
      ]
    },
    {
      "cell_type": "markdown",
      "source": [
        "---\n",
        "## Evaluation\n",
        "\n",
        "About the metrics, you can read the [evaluation](https://docs.haystack.deepset.ai/docs/evaluation) web page."
      ],
      "metadata": {
        "id": "ZIujxECKdf6n"
      }
    },
    {
      "cell_type": "code",
      "source": [
        "%%time\n",
        "\n",
        "# For testing purposes, running on the first 100 labels\n",
        "# For real evaluation, you must remove the [0:100]\n",
        "eval_labels = dataset.get_validation()[0:10]\n",
        "eval_result = pipe.eval(labels=eval_labels, params={\"Retriever\": {\"top_k\": NUM_K}})"
      ],
      "metadata": {
        "id": "rUeMF1OVVhPJ",
        "colab": {
          "base_uri": "https://localhost:8080/"
        },
        "outputId": "2ee2111d-be23-48e5-9271-80ed7a3dd53d"
      },
      "execution_count": 18,
      "outputs": [
        {
          "output_type": "stream",
          "name": "stdout",
          "text": [
            "CPU times: user 7.27 s, sys: 196 ms, total: 7.46 s\n",
            "Wall time: 7.81 s\n"
          ]
        }
      ]
    },
    {
      "cell_type": "code",
      "source": [
        "from pprint import pprint\n",
        "\n",
        "# Get and print the metrics\n",
        "metrics = eval_result.calculate_metrics()\n",
        "pprint(metrics)"
      ],
      "metadata": {
        "id": "SSgZE0T3TTze",
        "colab": {
          "base_uri": "https://localhost:8080/"
        },
        "outputId": "466d5d45-2a21-407f-8b36-3a720da3a16c"
      },
      "execution_count": 19,
      "outputs": [
        {
          "output_type": "stream",
          "name": "stdout",
          "text": [
            "{'Retriever': {'map': 0.55,\n",
            "               'mrr': 0.6,\n",
            "               'ndcg': 0.5613147192765459,\n",
            "               'precision': 0.6,\n",
            "               'recall_multi_hit': 0.55,\n",
            "               'recall_single_hit': 0.6}}\n"
          ]
        }
      ]
    },
    {
      "cell_type": "code",
      "source": [
        "# Print a detailed report\n",
        "# pipe.print_eval_report(eval_result)"
      ],
      "metadata": {
        "id": "NZFvLq3HTTv4"
      },
      "execution_count": 20,
      "outputs": []
    },
    {
      "cell_type": "code",
      "source": [],
      "metadata": {
        "id": "RZ3TC14oKtsW"
      },
      "execution_count": 20,
      "outputs": []
    }
  ]
}